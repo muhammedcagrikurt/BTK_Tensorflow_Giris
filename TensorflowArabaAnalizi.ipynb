{
  "nbformat": 4,
  "nbformat_minor": 0,
  "metadata": {
    "colab": {
      "name": "TensorflowArabaAnalizi.ipynb",
      "provenance": [],
      "toc_visible": true
    },
    "kernelspec": {
      "name": "python3",
      "display_name": "Python 3"
    }
  },
  "cells": [
    {
      "cell_type": "code",
      "metadata": {
        "id": "srobDCWXYiuy",
        "colab_type": "code",
        "colab": {}
      },
      "source": [
        "import numpy as np\n",
        "import pandas as pd\n",
        "import matplotlib.pyplot as plt\n",
        "import seaborn as sbn"
      ],
      "execution_count": 2,
      "outputs": []
    },
    {
      "cell_type": "code",
      "metadata": {
        "id": "MlqNWXWwbUua",
        "colab_type": "code",
        "colab": {}
      },
      "source": [
        "dataFrame = pd.read_excel(\"merc.xlsx\")\n"
      ],
      "execution_count": 3,
      "outputs": []
    },
    {
      "cell_type": "code",
      "metadata": {
        "id": "dGbJ39EebkgV",
        "colab_type": "code",
        "colab": {
          "base_uri": "https://localhost:8080/",
          "height": 419
        },
        "outputId": "7538b96d-cac2-447d-b99f-d19e336dccdc"
      },
      "source": [
        "dataFrame"
      ],
      "execution_count": 4,
      "outputs": [
        {
          "output_type": "execute_result",
          "data": {
            "text/html": [
              "<div>\n",
              "<style scoped>\n",
              "    .dataframe tbody tr th:only-of-type {\n",
              "        vertical-align: middle;\n",
              "    }\n",
              "\n",
              "    .dataframe tbody tr th {\n",
              "        vertical-align: top;\n",
              "    }\n",
              "\n",
              "    .dataframe thead th {\n",
              "        text-align: right;\n",
              "    }\n",
              "</style>\n",
              "<table border=\"1\" class=\"dataframe\">\n",
              "  <thead>\n",
              "    <tr style=\"text-align: right;\">\n",
              "      <th></th>\n",
              "      <th>year</th>\n",
              "      <th>price</th>\n",
              "      <th>transmission</th>\n",
              "      <th>mileage</th>\n",
              "      <th>tax</th>\n",
              "      <th>mpg</th>\n",
              "      <th>engineSize</th>\n",
              "    </tr>\n",
              "  </thead>\n",
              "  <tbody>\n",
              "    <tr>\n",
              "      <th>0</th>\n",
              "      <td>2005</td>\n",
              "      <td>5200</td>\n",
              "      <td>Automatic</td>\n",
              "      <td>63000</td>\n",
              "      <td>325</td>\n",
              "      <td>32.1</td>\n",
              "      <td>1.8</td>\n",
              "    </tr>\n",
              "    <tr>\n",
              "      <th>1</th>\n",
              "      <td>2017</td>\n",
              "      <td>34948</td>\n",
              "      <td>Automatic</td>\n",
              "      <td>27000</td>\n",
              "      <td>20</td>\n",
              "      <td>61.4</td>\n",
              "      <td>2.1</td>\n",
              "    </tr>\n",
              "    <tr>\n",
              "      <th>2</th>\n",
              "      <td>2016</td>\n",
              "      <td>49948</td>\n",
              "      <td>Automatic</td>\n",
              "      <td>6200</td>\n",
              "      <td>555</td>\n",
              "      <td>28.0</td>\n",
              "      <td>5.5</td>\n",
              "    </tr>\n",
              "    <tr>\n",
              "      <th>3</th>\n",
              "      <td>2016</td>\n",
              "      <td>61948</td>\n",
              "      <td>Automatic</td>\n",
              "      <td>16000</td>\n",
              "      <td>325</td>\n",
              "      <td>30.4</td>\n",
              "      <td>4.0</td>\n",
              "    </tr>\n",
              "    <tr>\n",
              "      <th>4</th>\n",
              "      <td>2016</td>\n",
              "      <td>73948</td>\n",
              "      <td>Automatic</td>\n",
              "      <td>4000</td>\n",
              "      <td>325</td>\n",
              "      <td>30.1</td>\n",
              "      <td>4.0</td>\n",
              "    </tr>\n",
              "    <tr>\n",
              "      <th>...</th>\n",
              "      <td>...</td>\n",
              "      <td>...</td>\n",
              "      <td>...</td>\n",
              "      <td>...</td>\n",
              "      <td>...</td>\n",
              "      <td>...</td>\n",
              "      <td>...</td>\n",
              "    </tr>\n",
              "    <tr>\n",
              "      <th>13114</th>\n",
              "      <td>2020</td>\n",
              "      <td>35999</td>\n",
              "      <td>Automatic</td>\n",
              "      <td>500</td>\n",
              "      <td>145</td>\n",
              "      <td>55.4</td>\n",
              "      <td>2.0</td>\n",
              "    </tr>\n",
              "    <tr>\n",
              "      <th>13115</th>\n",
              "      <td>2020</td>\n",
              "      <td>24699</td>\n",
              "      <td>Automatic</td>\n",
              "      <td>2500</td>\n",
              "      <td>145</td>\n",
              "      <td>55.4</td>\n",
              "      <td>2.0</td>\n",
              "    </tr>\n",
              "    <tr>\n",
              "      <th>13116</th>\n",
              "      <td>2019</td>\n",
              "      <td>30999</td>\n",
              "      <td>Automatic</td>\n",
              "      <td>11612</td>\n",
              "      <td>145</td>\n",
              "      <td>41.5</td>\n",
              "      <td>2.1</td>\n",
              "    </tr>\n",
              "    <tr>\n",
              "      <th>13117</th>\n",
              "      <td>2019</td>\n",
              "      <td>37990</td>\n",
              "      <td>Automatic</td>\n",
              "      <td>2426</td>\n",
              "      <td>145</td>\n",
              "      <td>45.6</td>\n",
              "      <td>2.0</td>\n",
              "    </tr>\n",
              "    <tr>\n",
              "      <th>13118</th>\n",
              "      <td>2019</td>\n",
              "      <td>54999</td>\n",
              "      <td>Automatic</td>\n",
              "      <td>2075</td>\n",
              "      <td>145</td>\n",
              "      <td>52.3</td>\n",
              "      <td>2.9</td>\n",
              "    </tr>\n",
              "  </tbody>\n",
              "</table>\n",
              "<p>13119 rows × 7 columns</p>\n",
              "</div>"
            ],
            "text/plain": [
              "       year  price transmission  mileage  tax   mpg  engineSize\n",
              "0      2005   5200    Automatic    63000  325  32.1         1.8\n",
              "1      2017  34948    Automatic    27000   20  61.4         2.1\n",
              "2      2016  49948    Automatic     6200  555  28.0         5.5\n",
              "3      2016  61948    Automatic    16000  325  30.4         4.0\n",
              "4      2016  73948    Automatic     4000  325  30.1         4.0\n",
              "...     ...    ...          ...      ...  ...   ...         ...\n",
              "13114  2020  35999    Automatic      500  145  55.4         2.0\n",
              "13115  2020  24699    Automatic     2500  145  55.4         2.0\n",
              "13116  2019  30999    Automatic    11612  145  41.5         2.1\n",
              "13117  2019  37990    Automatic     2426  145  45.6         2.0\n",
              "13118  2019  54999    Automatic     2075  145  52.3         2.9\n",
              "\n",
              "[13119 rows x 7 columns]"
            ]
          },
          "metadata": {
            "tags": []
          },
          "execution_count": 4
        }
      ]
    },
    {
      "cell_type": "code",
      "metadata": {
        "id": "jYFUrBC1blTU",
        "colab_type": "code",
        "colab": {
          "base_uri": "https://localhost:8080/",
          "height": 297
        },
        "outputId": "d4368c25-f66f-4ad0-8c78-1831300d6956"
      },
      "source": [
        "dataFrame.describe()"
      ],
      "execution_count": 5,
      "outputs": [
        {
          "output_type": "execute_result",
          "data": {
            "text/html": [
              "<div>\n",
              "<style scoped>\n",
              "    .dataframe tbody tr th:only-of-type {\n",
              "        vertical-align: middle;\n",
              "    }\n",
              "\n",
              "    .dataframe tbody tr th {\n",
              "        vertical-align: top;\n",
              "    }\n",
              "\n",
              "    .dataframe thead th {\n",
              "        text-align: right;\n",
              "    }\n",
              "</style>\n",
              "<table border=\"1\" class=\"dataframe\">\n",
              "  <thead>\n",
              "    <tr style=\"text-align: right;\">\n",
              "      <th></th>\n",
              "      <th>year</th>\n",
              "      <th>price</th>\n",
              "      <th>mileage</th>\n",
              "      <th>tax</th>\n",
              "      <th>mpg</th>\n",
              "      <th>engineSize</th>\n",
              "    </tr>\n",
              "  </thead>\n",
              "  <tbody>\n",
              "    <tr>\n",
              "      <th>count</th>\n",
              "      <td>13119.000000</td>\n",
              "      <td>13119.000000</td>\n",
              "      <td>13119.000000</td>\n",
              "      <td>13119.000000</td>\n",
              "      <td>13119.000000</td>\n",
              "      <td>13119.000000</td>\n",
              "    </tr>\n",
              "    <tr>\n",
              "      <th>mean</th>\n",
              "      <td>2017.296288</td>\n",
              "      <td>24698.596920</td>\n",
              "      <td>21949.559037</td>\n",
              "      <td>129.972178</td>\n",
              "      <td>55.155843</td>\n",
              "      <td>2.071530</td>\n",
              "    </tr>\n",
              "    <tr>\n",
              "      <th>std</th>\n",
              "      <td>2.224709</td>\n",
              "      <td>11842.675542</td>\n",
              "      <td>21176.512267</td>\n",
              "      <td>65.260286</td>\n",
              "      <td>15.220082</td>\n",
              "      <td>0.572426</td>\n",
              "    </tr>\n",
              "    <tr>\n",
              "      <th>min</th>\n",
              "      <td>1970.000000</td>\n",
              "      <td>650.000000</td>\n",
              "      <td>1.000000</td>\n",
              "      <td>0.000000</td>\n",
              "      <td>1.100000</td>\n",
              "      <td>0.000000</td>\n",
              "    </tr>\n",
              "    <tr>\n",
              "      <th>25%</th>\n",
              "      <td>2016.000000</td>\n",
              "      <td>17450.000000</td>\n",
              "      <td>6097.500000</td>\n",
              "      <td>125.000000</td>\n",
              "      <td>45.600000</td>\n",
              "      <td>1.800000</td>\n",
              "    </tr>\n",
              "    <tr>\n",
              "      <th>50%</th>\n",
              "      <td>2018.000000</td>\n",
              "      <td>22480.000000</td>\n",
              "      <td>15189.000000</td>\n",
              "      <td>145.000000</td>\n",
              "      <td>56.500000</td>\n",
              "      <td>2.000000</td>\n",
              "    </tr>\n",
              "    <tr>\n",
              "      <th>75%</th>\n",
              "      <td>2019.000000</td>\n",
              "      <td>28980.000000</td>\n",
              "      <td>31779.500000</td>\n",
              "      <td>145.000000</td>\n",
              "      <td>64.200000</td>\n",
              "      <td>2.100000</td>\n",
              "    </tr>\n",
              "    <tr>\n",
              "      <th>max</th>\n",
              "      <td>2020.000000</td>\n",
              "      <td>159999.000000</td>\n",
              "      <td>259000.000000</td>\n",
              "      <td>580.000000</td>\n",
              "      <td>217.300000</td>\n",
              "      <td>6.200000</td>\n",
              "    </tr>\n",
              "  </tbody>\n",
              "</table>\n",
              "</div>"
            ],
            "text/plain": [
              "               year          price  ...           mpg    engineSize\n",
              "count  13119.000000   13119.000000  ...  13119.000000  13119.000000\n",
              "mean    2017.296288   24698.596920  ...     55.155843      2.071530\n",
              "std        2.224709   11842.675542  ...     15.220082      0.572426\n",
              "min     1970.000000     650.000000  ...      1.100000      0.000000\n",
              "25%     2016.000000   17450.000000  ...     45.600000      1.800000\n",
              "50%     2018.000000   22480.000000  ...     56.500000      2.000000\n",
              "75%     2019.000000   28980.000000  ...     64.200000      2.100000\n",
              "max     2020.000000  159999.000000  ...    217.300000      6.200000\n",
              "\n",
              "[8 rows x 6 columns]"
            ]
          },
          "metadata": {
            "tags": []
          },
          "execution_count": 5
        }
      ]
    },
    {
      "cell_type": "code",
      "metadata": {
        "id": "3gPdQFuvcOCJ",
        "colab_type": "code",
        "colab": {
          "base_uri": "https://localhost:8080/",
          "height": 153
        },
        "outputId": "f1855f01-e1b4-4a83-c7ab-e46bf7ae4024"
      },
      "source": [
        "dataFrame.isnull().sum()"
      ],
      "execution_count": 6,
      "outputs": [
        {
          "output_type": "execute_result",
          "data": {
            "text/plain": [
              "year            0\n",
              "price           0\n",
              "transmission    0\n",
              "mileage         0\n",
              "tax             0\n",
              "mpg             0\n",
              "engineSize      0\n",
              "dtype: int64"
            ]
          },
          "metadata": {
            "tags": []
          },
          "execution_count": 6
        }
      ]
    },
    {
      "cell_type": "code",
      "metadata": {
        "id": "Y8BJ-Tx9dQi_",
        "colab_type": "code",
        "colab": {
          "base_uri": "https://localhost:8080/",
          "height": 525
        },
        "outputId": "70927828-a042-489c-8c29-a6ecf7ea6464"
      },
      "source": [
        "plt.figure(figsize=(8,8))\n",
        "sbn.distplot(dataFrame[\"price\"])"
      ],
      "execution_count": 17,
      "outputs": [
        {
          "output_type": "execute_result",
          "data": {
            "text/plain": [
              "<matplotlib.axes._subplots.AxesSubplot at 0x7f75c25c4f98>"
            ]
          },
          "metadata": {
            "tags": []
          },
          "execution_count": 17
        },
        {
          "output_type": "display_data",
          "data": {
            "image/png": "[encoded data removed]",
            "text/plain": [
              "<Figure size 576x576 with 1 Axes>"
            ]
          },
          "metadata": {
            "tags": [],
            "needs_background": "light"
          }
        }
      ]
    },
    {
      "cell_type": "code",
      "metadata": {
        "id": "SMM6mnefdv9A",
        "colab_type": "code",
        "colab": {
          "base_uri": "https://localhost:8080/",
          "height": 514
        },
        "outputId": "675f5126-8d68-46c6-e7e4-58475b1dccfb"
      },
      "source": [
        "plt.figure(figsize=(8,8))\n",
        "sbn.countplot(dataFrame[\"year\"])"
      ],
      "execution_count": 19,
      "outputs": [
        {
          "output_type": "execute_result",
          "data": {
            "text/plain": [
              "<matplotlib.axes._subplots.AxesSubplot at 0x7f75c2360f98>"
            ]
          },
          "metadata": {
            "tags": []
          },
          "execution_count": 19
        },
        {
          "output_type": "display_data",
          "data": {
            "image/png": "[encoded data removed]",
            "text/plain": [
              "<Figure size 576x576 with 1 Axes>"
            ]
          },
          "metadata": {
            "tags": [],
            "needs_background": "light"
          }
        }
      ]
    },
    {
      "cell_type": "code",
      "metadata": {
        "id": "RXuKRhZrfOQF",
        "colab_type": "code",
        "colab": {
          "base_uri": "https://localhost:8080/",
          "height": 235
        },
        "outputId": "bc7f2638-6593-4485-a726-5f098d3fdf45"
      },
      "source": [
        "dataFrame.corr()"
      ],
      "execution_count": 20,
      "outputs": [
        {
          "output_type": "execute_result",
          "data": {
            "text/html": [
              "<div>\n",
              "<style scoped>\n",
              "    .dataframe tbody tr th:only-of-type {\n",
              "        vertical-align: middle;\n",
              "    }\n",
              "\n",
              "    .dataframe tbody tr th {\n",
              "        vertical-align: top;\n",
              "    }\n",
              "\n",
              "    .dataframe thead th {\n",
              "        text-align: right;\n",
              "    }\n",
              "</style>\n",
              "<table border=\"1\" class=\"dataframe\">\n",
              "  <thead>\n",
              "    <tr style=\"text-align: right;\">\n",
              "      <th></th>\n",
              "      <th>year</th>\n",
              "      <th>price</th>\n",
              "      <th>mileage</th>\n",
              "      <th>tax</th>\n",
              "      <th>mpg</th>\n",
              "      <th>engineSize</th>\n",
              "    </tr>\n",
              "  </thead>\n",
              "  <tbody>\n",
              "    <tr>\n",
              "      <th>year</th>\n",
              "      <td>1.000000</td>\n",
              "      <td>0.520712</td>\n",
              "      <td>-0.738027</td>\n",
              "      <td>0.012480</td>\n",
              "      <td>-0.094626</td>\n",
              "      <td>-0.142147</td>\n",
              "    </tr>\n",
              "    <tr>\n",
              "      <th>price</th>\n",
              "      <td>0.520712</td>\n",
              "      <td>1.000000</td>\n",
              "      <td>-0.537214</td>\n",
              "      <td>0.268717</td>\n",
              "      <td>-0.438445</td>\n",
              "      <td>0.516126</td>\n",
              "    </tr>\n",
              "    <tr>\n",
              "      <th>mileage</th>\n",
              "      <td>-0.738027</td>\n",
              "      <td>-0.537214</td>\n",
              "      <td>1.000000</td>\n",
              "      <td>-0.160223</td>\n",
              "      <td>0.202850</td>\n",
              "      <td>0.063652</td>\n",
              "    </tr>\n",
              "    <tr>\n",
              "      <th>tax</th>\n",
              "      <td>0.012480</td>\n",
              "      <td>0.268717</td>\n",
              "      <td>-0.160223</td>\n",
              "      <td>1.000000</td>\n",
              "      <td>-0.513742</td>\n",
              "      <td>0.338341</td>\n",
              "    </tr>\n",
              "    <tr>\n",
              "      <th>mpg</th>\n",
              "      <td>-0.094626</td>\n",
              "      <td>-0.438445</td>\n",
              "      <td>0.202850</td>\n",
              "      <td>-0.513742</td>\n",
              "      <td>1.000000</td>\n",
              "      <td>-0.339862</td>\n",
              "    </tr>\n",
              "    <tr>\n",
              "      <th>engineSize</th>\n",
              "      <td>-0.142147</td>\n",
              "      <td>0.516126</td>\n",
              "      <td>0.063652</td>\n",
              "      <td>0.338341</td>\n",
              "      <td>-0.339862</td>\n",
              "      <td>1.000000</td>\n",
              "    </tr>\n",
              "  </tbody>\n",
              "</table>\n",
              "</div>"
            ],
            "text/plain": [
              "                year     price   mileage       tax       mpg  engineSize\n",
              "year        1.000000  0.520712 -0.738027  0.012480 -0.094626   -0.142147\n",
              "price       0.520712  1.000000 -0.537214  0.268717 -0.438445    0.516126\n",
              "mileage    -0.738027 -0.537214  1.000000 -0.160223  0.202850    0.063652\n",
              "tax         0.012480  0.268717 -0.160223  1.000000 -0.513742    0.338341\n",
              "mpg        -0.094626 -0.438445  0.202850 -0.513742  1.000000   -0.339862\n",
              "engineSize -0.142147  0.516126  0.063652  0.338341 -0.339862    1.000000"
            ]
          },
          "metadata": {
            "tags": []
          },
          "execution_count": 20
        }
      ]
    },
    {
      "cell_type": "code",
      "metadata": {
        "id": "JB3s7Mp_fe8M",
        "colab_type": "code",
        "colab": {
          "base_uri": "https://localhost:8080/",
          "height": 136
        },
        "outputId": "13fba64d-895b-474a-811b-938a4ea7f254"
      },
      "source": [
        "dataFrame.corr()[\"price\"].sort_values()"
      ],
      "execution_count": 22,
      "outputs": [
        {
          "output_type": "execute_result",
          "data": {
            "text/plain": [
              "mileage      -0.537214\n",
              "mpg          -0.438445\n",
              "tax           0.268717\n",
              "engineSize    0.516126\n",
              "year          0.520712\n",
              "price         1.000000\n",
              "Name: price, dtype: float64"
            ]
          },
          "metadata": {
            "tags": []
          },
          "execution_count": 22
        }
      ]
    },
    {
      "cell_type": "code",
      "metadata": {
        "id": "YjFysHKUfzKo",
        "colab_type": "code",
        "colab": {
          "base_uri": "https://localhost:8080/",
          "height": 296
        },
        "outputId": "2338b095-79bb-40c7-c161-b29ff87aa788"
      },
      "source": [
        "sbn.scatterplot(x=\"mileage\",y=\"price\",data=dataFrame)"
      ],
      "execution_count": 26,
      "outputs": [
        {
          "output_type": "execute_result",
          "data": {
            "text/plain": [
              "<matplotlib.axes._subplots.AxesSubplot at 0x7f75c229df28>"
            ]
          },
          "metadata": {
            "tags": []
          },
          "execution_count": 26
        },
        {
          "output_type": "display_data",
          "data": {
            "image/png": "[encoded data removed]",
            "text/plain": [
              "<Figure size 432x288 with 1 Axes>"
            ]
          },
          "metadata": {
            "tags": [],
            "needs_background": "light"
          }
        }
      ]
    },
    {
      "cell_type": "code",
      "metadata": {
        "id": "zPhPRM4sg2tv",
        "colab_type": "code",
        "colab": {
          "base_uri": "https://localhost:8080/",
          "height": 669
        },
        "outputId": "1aeab3d7-73fa-4047-9cf4-3231d04e94da"
      },
      "source": [
        "dataFrame.sort_values(\"price\",ascending= False).head(20)"
      ],
      "execution_count": 28,
      "outputs": [
        {
          "output_type": "execute_result",
          "data": {
            "text/html": [
              "<div>\n",
              "<style scoped>\n",
              "    .dataframe tbody tr th:only-of-type {\n",
              "        vertical-align: middle;\n",
              "    }\n",
              "\n",
              "    .dataframe tbody tr th {\n",
              "        vertical-align: top;\n",
              "    }\n",
              "\n",
              "    .dataframe thead th {\n",
              "        text-align: right;\n",
              "    }\n",
              "</style>\n",
              "<table border=\"1\" class=\"dataframe\">\n",
              "  <thead>\n",
              "    <tr style=\"text-align: right;\">\n",
              "      <th></th>\n",
              "      <th>year</th>\n",
              "      <th>price</th>\n",
              "      <th>transmission</th>\n",
              "      <th>mileage</th>\n",
              "      <th>tax</th>\n",
              "      <th>mpg</th>\n",
              "      <th>engineSize</th>\n",
              "    </tr>\n",
              "  </thead>\n",
              "  <tbody>\n",
              "    <tr>\n",
              "      <th>6199</th>\n",
              "      <td>2020</td>\n",
              "      <td>159999</td>\n",
              "      <td>Semi-Auto</td>\n",
              "      <td>1350</td>\n",
              "      <td>145</td>\n",
              "      <td>21.4</td>\n",
              "      <td>4.0</td>\n",
              "    </tr>\n",
              "    <tr>\n",
              "      <th>10044</th>\n",
              "      <td>2020</td>\n",
              "      <td>154998</td>\n",
              "      <td>Automatic</td>\n",
              "      <td>3000</td>\n",
              "      <td>150</td>\n",
              "      <td>21.4</td>\n",
              "      <td>4.0</td>\n",
              "    </tr>\n",
              "    <tr>\n",
              "      <th>5</th>\n",
              "      <td>2011</td>\n",
              "      <td>149948</td>\n",
              "      <td>Automatic</td>\n",
              "      <td>3000</td>\n",
              "      <td>570</td>\n",
              "      <td>21.4</td>\n",
              "      <td>6.2</td>\n",
              "    </tr>\n",
              "    <tr>\n",
              "      <th>8737</th>\n",
              "      <td>2019</td>\n",
              "      <td>140319</td>\n",
              "      <td>Semi-Auto</td>\n",
              "      <td>785</td>\n",
              "      <td>150</td>\n",
              "      <td>22.1</td>\n",
              "      <td>4.0</td>\n",
              "    </tr>\n",
              "    <tr>\n",
              "      <th>6386</th>\n",
              "      <td>2018</td>\n",
              "      <td>139995</td>\n",
              "      <td>Semi-Auto</td>\n",
              "      <td>13046</td>\n",
              "      <td>145</td>\n",
              "      <td>21.4</td>\n",
              "      <td>4.0</td>\n",
              "    </tr>\n",
              "    <tr>\n",
              "      <th>8</th>\n",
              "      <td>2019</td>\n",
              "      <td>139948</td>\n",
              "      <td>Automatic</td>\n",
              "      <td>12000</td>\n",
              "      <td>145</td>\n",
              "      <td>21.4</td>\n",
              "      <td>4.0</td>\n",
              "    </tr>\n",
              "    <tr>\n",
              "      <th>9133</th>\n",
              "      <td>2019</td>\n",
              "      <td>139559</td>\n",
              "      <td>Semi-Auto</td>\n",
              "      <td>1000</td>\n",
              "      <td>145</td>\n",
              "      <td>22.1</td>\n",
              "      <td>4.0</td>\n",
              "    </tr>\n",
              "    <tr>\n",
              "      <th>8821</th>\n",
              "      <td>2020</td>\n",
              "      <td>138439</td>\n",
              "      <td>Semi-Auto</td>\n",
              "      <td>1000</td>\n",
              "      <td>145</td>\n",
              "      <td>22.1</td>\n",
              "      <td>4.0</td>\n",
              "    </tr>\n",
              "    <tr>\n",
              "      <th>5902</th>\n",
              "      <td>2018</td>\n",
              "      <td>135771</td>\n",
              "      <td>Semi-Auto</td>\n",
              "      <td>19000</td>\n",
              "      <td>145</td>\n",
              "      <td>21.4</td>\n",
              "      <td>4.0</td>\n",
              "    </tr>\n",
              "    <tr>\n",
              "      <th>7864</th>\n",
              "      <td>2018</td>\n",
              "      <td>135124</td>\n",
              "      <td>Semi-Auto</td>\n",
              "      <td>18234</td>\n",
              "      <td>150</td>\n",
              "      <td>21.4</td>\n",
              "      <td>4.0</td>\n",
              "    </tr>\n",
              "    <tr>\n",
              "      <th>8673</th>\n",
              "      <td>2019</td>\n",
              "      <td>134219</td>\n",
              "      <td>Semi-Auto</td>\n",
              "      <td>1000</td>\n",
              "      <td>145</td>\n",
              "      <td>24.8</td>\n",
              "      <td>4.0</td>\n",
              "    </tr>\n",
              "    <tr>\n",
              "      <th>6210</th>\n",
              "      <td>2019</td>\n",
              "      <td>129990</td>\n",
              "      <td>Automatic</td>\n",
              "      <td>1000</td>\n",
              "      <td>145</td>\n",
              "      <td>24.8</td>\n",
              "      <td>4.0</td>\n",
              "    </tr>\n",
              "    <tr>\n",
              "      <th>4759</th>\n",
              "      <td>2019</td>\n",
              "      <td>126000</td>\n",
              "      <td>Automatic</td>\n",
              "      <td>250</td>\n",
              "      <td>145</td>\n",
              "      <td>24.6</td>\n",
              "      <td>4.0</td>\n",
              "    </tr>\n",
              "    <tr>\n",
              "      <th>2647</th>\n",
              "      <td>2019</td>\n",
              "      <td>125796</td>\n",
              "      <td>Automatic</td>\n",
              "      <td>637</td>\n",
              "      <td>145</td>\n",
              "      <td>24.8</td>\n",
              "      <td>4.0</td>\n",
              "    </tr>\n",
              "    <tr>\n",
              "      <th>6223</th>\n",
              "      <td>2019</td>\n",
              "      <td>124999</td>\n",
              "      <td>Automatic</td>\n",
              "      <td>1500</td>\n",
              "      <td>145</td>\n",
              "      <td>31.7</td>\n",
              "      <td>4.0</td>\n",
              "    </tr>\n",
              "    <tr>\n",
              "      <th>4094</th>\n",
              "      <td>2019</td>\n",
              "      <td>124366</td>\n",
              "      <td>Semi-Auto</td>\n",
              "      <td>880</td>\n",
              "      <td>145</td>\n",
              "      <td>24.8</td>\n",
              "      <td>4.0</td>\n",
              "    </tr>\n",
              "    <tr>\n",
              "      <th>2629</th>\n",
              "      <td>2019</td>\n",
              "      <td>123846</td>\n",
              "      <td>Semi-Auto</td>\n",
              "      <td>2951</td>\n",
              "      <td>145</td>\n",
              "      <td>22.1</td>\n",
              "      <td>4.0</td>\n",
              "    </tr>\n",
              "    <tr>\n",
              "      <th>7134</th>\n",
              "      <td>2019</td>\n",
              "      <td>115359</td>\n",
              "      <td>Semi-Auto</td>\n",
              "      <td>1000</td>\n",
              "      <td>145</td>\n",
              "      <td>30.1</td>\n",
              "      <td>4.0</td>\n",
              "    </tr>\n",
              "    <tr>\n",
              "      <th>9159</th>\n",
              "      <td>2019</td>\n",
              "      <td>114199</td>\n",
              "      <td>Semi-Auto</td>\n",
              "      <td>891</td>\n",
              "      <td>145</td>\n",
              "      <td>22.6</td>\n",
              "      <td>4.0</td>\n",
              "    </tr>\n",
              "    <tr>\n",
              "      <th>1980</th>\n",
              "      <td>2019</td>\n",
              "      <td>109995</td>\n",
              "      <td>Semi-Auto</td>\n",
              "      <td>4688</td>\n",
              "      <td>150</td>\n",
              "      <td>31.7</td>\n",
              "      <td>4.0</td>\n",
              "    </tr>\n",
              "  </tbody>\n",
              "</table>\n",
              "</div>"
            ],
            "text/plain": [
              "       year   price transmission  mileage  tax   mpg  engineSize\n",
              "6199   2020  159999    Semi-Auto     1350  145  21.4         4.0\n",
              "10044  2020  154998    Automatic     3000  150  21.4         4.0\n",
              "5      2011  149948    Automatic     3000  570  21.4         6.2\n",
              "8737   2019  140319    Semi-Auto      785  150  22.1         4.0\n",
              "6386   2018  139995    Semi-Auto    13046  145  21.4         4.0\n",
              "8      2019  139948    Automatic    12000  145  21.4         4.0\n",
              "9133   2019  139559    Semi-Auto     1000  145  22.1         4.0\n",
              "8821   2020  138439    Semi-Auto     1000  145  22.1         4.0\n",
              "5902   2018  135771    Semi-Auto    19000  145  21.4         4.0\n",
              "7864   2018  135124    Semi-Auto    18234  150  21.4         4.0\n",
              "8673   2019  134219    Semi-Auto     1000  145  24.8         4.0\n",
              "6210   2019  129990    Automatic     1000  145  24.8         4.0\n",
              "4759   2019  126000    Automatic      250  145  24.6         4.0\n",
              "2647   2019  125796    Automatic      637  145  24.8         4.0\n",
              "6223   2019  124999    Automatic     1500  145  31.7         4.0\n",
              "4094   2019  124366    Semi-Auto      880  145  24.8         4.0\n",
              "2629   2019  123846    Semi-Auto     2951  145  22.1         4.0\n",
              "7134   2019  115359    Semi-Auto     1000  145  30.1         4.0\n",
              "9159   2019  114199    Semi-Auto      891  145  22.6         4.0\n",
              "1980   2019  109995    Semi-Auto     4688  150  31.7         4.0"
            ]
          },
          "metadata": {
            "tags": []
          },
          "execution_count": 28
        }
      ]
    },
    {
      "cell_type": "code",
      "metadata": {
        "id": "c7kEfSZQhMQM",
        "colab_type": "code",
        "colab": {
          "base_uri": "https://localhost:8080/",
          "height": 34
        },
        "outputId": "bd86f435-b5b8-4353-dfb7-3959d7df307e"
      },
      "source": [
        "len(dataFrame)"
      ],
      "execution_count": 29,
      "outputs": [
        {
          "output_type": "execute_result",
          "data": {
            "text/plain": [
              "13119"
            ]
          },
          "metadata": {
            "tags": []
          },
          "execution_count": 29
        }
      ]
    },
    {
      "cell_type": "code",
      "metadata": {
        "id": "SoTxckjKiD-2",
        "colab_type": "code",
        "colab": {
          "base_uri": "https://localhost:8080/",
          "height": 34
        },
        "outputId": "71a42afb-71af-4a5c-a2aa-11943ad291b0"
      },
      "source": [
        "len(dataFrame) * 0.01"
      ],
      "execution_count": 31,
      "outputs": [
        {
          "output_type": "execute_result",
          "data": {
            "text/plain": [
              "131.19"
            ]
          },
          "metadata": {
            "tags": []
          },
          "execution_count": 31
        }
      ]
    },
    {
      "cell_type": "code",
      "metadata": {
        "id": "BeYDH1JNiIYl",
        "colab_type": "code",
        "colab": {}
      },
      "source": [
        "yuzdeDoksanDokunDataFrame = dataFrame.sort_values(\"price\", ascending= False).iloc[131:]"
      ],
      "execution_count": 33,
      "outputs": []
    },
    {
      "cell_type": "code",
      "metadata": {
        "id": "SmAtjHyqik59",
        "colab_type": "code",
        "colab": {
          "base_uri": "https://localhost:8080/",
          "height": 297
        },
        "outputId": "a3c7835a-3d48-4e21-8241-2a6dc47c790f"
      },
      "source": [
        "yuzdeDoksanDokunDataFrame.describe()"
      ],
      "execution_count": 35,
      "outputs": [
        {
          "output_type": "execute_result",
          "data": {
            "text/html": [
              "<div>\n",
              "<style scoped>\n",
              "    .dataframe tbody tr th:only-of-type {\n",
              "        vertical-align: middle;\n",
              "    }\n",
              "\n",
              "    .dataframe tbody tr th {\n",
              "        vertical-align: top;\n",
              "    }\n",
              "\n",
              "    .dataframe thead th {\n",
              "        text-align: right;\n",
              "    }\n",
              "</style>\n",
              "<table border=\"1\" class=\"dataframe\">\n",
              "  <thead>\n",
              "    <tr style=\"text-align: right;\">\n",
              "      <th></th>\n",
              "      <th>year</th>\n",
              "      <th>price</th>\n",
              "      <th>mileage</th>\n",
              "      <th>tax</th>\n",
              "      <th>mpg</th>\n",
              "      <th>engineSize</th>\n",
              "    </tr>\n",
              "  </thead>\n",
              "  <tbody>\n",
              "    <tr>\n",
              "      <th>count</th>\n",
              "      <td>12988.000000</td>\n",
              "      <td>12988.000000</td>\n",
              "      <td>12988.000000</td>\n",
              "      <td>12988.000000</td>\n",
              "      <td>12988.000000</td>\n",
              "      <td>12988.000000</td>\n",
              "    </tr>\n",
              "    <tr>\n",
              "      <th>mean</th>\n",
              "      <td>2017.281876</td>\n",
              "      <td>24074.926933</td>\n",
              "      <td>22132.741146</td>\n",
              "      <td>129.689714</td>\n",
              "      <td>55.437142</td>\n",
              "      <td>2.050901</td>\n",
              "    </tr>\n",
              "    <tr>\n",
              "      <th>std</th>\n",
              "      <td>2.228515</td>\n",
              "      <td>9866.224575</td>\n",
              "      <td>21196.776401</td>\n",
              "      <td>65.183076</td>\n",
              "      <td>15.025999</td>\n",
              "      <td>0.532596</td>\n",
              "    </tr>\n",
              "    <tr>\n",
              "      <th>min</th>\n",
              "      <td>1970.000000</td>\n",
              "      <td>650.000000</td>\n",
              "      <td>1.000000</td>\n",
              "      <td>0.000000</td>\n",
              "      <td>1.100000</td>\n",
              "      <td>0.000000</td>\n",
              "    </tr>\n",
              "    <tr>\n",
              "      <th>25%</th>\n",
              "      <td>2016.000000</td>\n",
              "      <td>17357.500000</td>\n",
              "      <td>6322.000000</td>\n",
              "      <td>125.000000</td>\n",
              "      <td>45.600000</td>\n",
              "      <td>1.675000</td>\n",
              "    </tr>\n",
              "    <tr>\n",
              "      <th>50%</th>\n",
              "      <td>2018.000000</td>\n",
              "      <td>22299.000000</td>\n",
              "      <td>15369.500000</td>\n",
              "      <td>145.000000</td>\n",
              "      <td>56.500000</td>\n",
              "      <td>2.000000</td>\n",
              "    </tr>\n",
              "    <tr>\n",
              "      <th>75%</th>\n",
              "      <td>2019.000000</td>\n",
              "      <td>28706.000000</td>\n",
              "      <td>31982.250000</td>\n",
              "      <td>145.000000</td>\n",
              "      <td>64.200000</td>\n",
              "      <td>2.100000</td>\n",
              "    </tr>\n",
              "    <tr>\n",
              "      <th>max</th>\n",
              "      <td>2020.000000</td>\n",
              "      <td>65990.000000</td>\n",
              "      <td>259000.000000</td>\n",
              "      <td>580.000000</td>\n",
              "      <td>217.300000</td>\n",
              "      <td>6.200000</td>\n",
              "    </tr>\n",
              "  </tbody>\n",
              "</table>\n",
              "</div>"
            ],
            "text/plain": [
              "               year         price  ...           mpg    engineSize\n",
              "count  12988.000000  12988.000000  ...  12988.000000  12988.000000\n",
              "mean    2017.281876  24074.926933  ...     55.437142      2.050901\n",
              "std        2.228515   9866.224575  ...     15.025999      0.532596\n",
              "min     1970.000000    650.000000  ...      1.100000      0.000000\n",
              "25%     2016.000000  17357.500000  ...     45.600000      1.675000\n",
              "50%     2018.000000  22299.000000  ...     56.500000      2.000000\n",
              "75%     2019.000000  28706.000000  ...     64.200000      2.100000\n",
              "max     2020.000000  65990.000000  ...    217.300000      6.200000\n",
              "\n",
              "[8 rows x 6 columns]"
            ]
          },
          "metadata": {
            "tags": []
          },
          "execution_count": 35
        }
      ]
    },
    {
      "cell_type": "code",
      "metadata": {
        "id": "jsu3Rnb6iugV",
        "colab_type": "code",
        "colab": {
          "base_uri": "https://localhost:8080/",
          "height": 525
        },
        "outputId": "0cbef704-3168-4e49-fc1d-d1c2af5ffa67"
      },
      "source": [
        "plt.figure(figsize=(8,8))\n",
        "sbn.distplot(yuzdeDoksanDokunDataFrame[\"price\"])"
      ],
      "execution_count": 36,
      "outputs": [
        {
          "output_type": "execute_result",
          "data": {
            "text/plain": [
              "<matplotlib.axes._subplots.AxesSubplot at 0x7f75c215e390>"
            ]
          },
          "metadata": {
            "tags": []
          },
          "execution_count": 36
        },
        {
          "output_type": "display_data",
          "data": {
            "image/png": "[encoded data removed]",
            "text/plain": [
              "<Figure size 576x576 with 1 Axes>"
            ]
          },
          "metadata": {
            "tags": [],
            "needs_background": "light"
          }
        }
      ]
    },
    {
      "cell_type": "code",
      "metadata": {
        "id": "mHiXfT5Wi-v9",
        "colab_type": "code",
        "colab": {
          "base_uri": "https://localhost:8080/",
          "height": 476
        },
        "outputId": "e610f913-b84d-4a91-c9a8-e63ac135e014"
      },
      "source": [
        "dataFrame.groupby(\"year\").mean()[\"price\"]"
      ],
      "execution_count": 37,
      "outputs": [
        {
          "output_type": "execute_result",
          "data": {
            "text/plain": [
              "year\n",
              "1970    24999.000000\n",
              "1997     9995.000000\n",
              "1998     8605.000000\n",
              "1999     5995.000000\n",
              "2000     5743.333333\n",
              "2001     4957.900000\n",
              "2002     5820.444444\n",
              "2003     4878.000000\n",
              "2004     4727.615385\n",
              "2005     4426.111111\n",
              "2006     4036.875000\n",
              "2007     5136.045455\n",
              "2008     6967.437500\n",
              "2009     6166.764706\n",
              "2010     8308.473684\n",
              "2011    12624.894737\n",
              "2012    10845.140351\n",
              "2013    11939.842466\n",
              "2014    14042.936864\n",
              "2015    16731.780020\n",
              "2016    19307.892948\n",
              "2017    21514.307854\n",
              "2018    25720.162918\n",
              "2019    31290.020865\n",
              "2020    35433.282337\n",
              "Name: price, dtype: float64"
            ]
          },
          "metadata": {
            "tags": []
          },
          "execution_count": 37
        }
      ]
    },
    {
      "cell_type": "code",
      "metadata": {
        "id": "6IClGPI3je9b",
        "colab_type": "code",
        "colab": {
          "base_uri": "https://localhost:8080/",
          "height": 476
        },
        "outputId": "a6878900-98eb-40fd-8cd2-600f63465c91"
      },
      "source": [
        "yuzdeDoksanDokunDataFrame.groupby(\"year\").mean()[\"price\"]"
      ],
      "execution_count": 38,
      "outputs": [
        {
          "output_type": "execute_result",
          "data": {
            "text/plain": [
              "year\n",
              "1970    24999.000000\n",
              "1997     9995.000000\n",
              "1998     8605.000000\n",
              "1999     5995.000000\n",
              "2000     5743.333333\n",
              "2001     4957.900000\n",
              "2002     5820.444444\n",
              "2003     4878.000000\n",
              "2004     4727.615385\n",
              "2005     4426.111111\n",
              "2006     4036.875000\n",
              "2007     5136.045455\n",
              "2008     6967.437500\n",
              "2009     6166.764706\n",
              "2010     8308.473684\n",
              "2011     8913.459459\n",
              "2012    10845.140351\n",
              "2013    11939.842466\n",
              "2014    14042.936864\n",
              "2015    16647.822222\n",
              "2016    19223.558943\n",
              "2017    21356.280421\n",
              "2018    24800.844506\n",
              "2019    30289.524832\n",
              "2020    34234.794872\n",
              "Name: price, dtype: float64"
            ]
          },
          "metadata": {
            "tags": []
          },
          "execution_count": 38
        }
      ]
    },
    {
      "cell_type": "code",
      "metadata": {
        "id": "gjsVCNeFjsZD",
        "colab_type": "code",
        "colab": {
          "base_uri": "https://localhost:8080/",
          "height": 459
        },
        "outputId": "c8985cf4-bab2-4e73-9779-5f2a5faf151b"
      },
      "source": [
        "dataFrame[dataFrame.year != 1970].groupby(\"year\").mean()[\"price\"]"
      ],
      "execution_count": 39,
      "outputs": [
        {
          "output_type": "execute_result",
          "data": {
            "text/plain": [
              "year\n",
              "1997     9995.000000\n",
              "1998     8605.000000\n",
              "1999     5995.000000\n",
              "2000     5743.333333\n",
              "2001     4957.900000\n",
              "2002     5820.444444\n",
              "2003     4878.000000\n",
              "2004     4727.615385\n",
              "2005     4426.111111\n",
              "2006     4036.875000\n",
              "2007     5136.045455\n",
              "2008     6967.437500\n",
              "2009     6166.764706\n",
              "2010     8308.473684\n",
              "2011    12624.894737\n",
              "2012    10845.140351\n",
              "2013    11939.842466\n",
              "2014    14042.936864\n",
              "2015    16731.780020\n",
              "2016    19307.892948\n",
              "2017    21514.307854\n",
              "2018    25720.162918\n",
              "2019    31290.020865\n",
              "2020    35433.282337\n",
              "Name: price, dtype: float64"
            ]
          },
          "metadata": {
            "tags": []
          },
          "execution_count": 39
        }
      ]
    },
    {
      "cell_type": "code",
      "metadata": {
        "id": "9sy_7cRAkAB-",
        "colab_type": "code",
        "colab": {}
      },
      "source": [
        "yetmisHaricDf = yuzdeDoksanDokunDataFrame[yuzdeDoksanDokunDataFrame.year != 1970]"
      ],
      "execution_count": 45,
      "outputs": []
    },
    {
      "cell_type": "code",
      "metadata": {
        "id": "VsDVQ9Plkskf",
        "colab_type": "code",
        "colab": {
          "base_uri": "https://localhost:8080/",
          "height": 459
        },
        "outputId": "36bb9455-287a-4db9-910c-db0a642ff721"
      },
      "source": [
        "yetmisHaricDf.groupby(\"year\").mean()[\"price\"]"
      ],
      "execution_count": 46,
      "outputs": [
        {
          "output_type": "execute_result",
          "data": {
            "text/plain": [
              "year\n",
              "1997     9995.000000\n",
              "1998     8605.000000\n",
              "1999     5995.000000\n",
              "2000     5743.333333\n",
              "2001     4957.900000\n",
              "2002     5820.444444\n",
              "2003     4878.000000\n",
              "2004     4727.615385\n",
              "2005     4426.111111\n",
              "2006     4036.875000\n",
              "2007     5136.045455\n",
              "2008     6967.437500\n",
              "2009     6166.764706\n",
              "2010     8308.473684\n",
              "2011     8913.459459\n",
              "2012    10845.140351\n",
              "2013    11939.842466\n",
              "2014    14042.936864\n",
              "2015    16647.822222\n",
              "2016    19223.558943\n",
              "2017    21356.280421\n",
              "2018    24800.844506\n",
              "2019    30289.524832\n",
              "2020    34234.794872\n",
              "Name: price, dtype: float64"
            ]
          },
          "metadata": {
            "tags": []
          },
          "execution_count": 46
        }
      ]
    },
    {
      "cell_type": "code",
      "metadata": {
        "id": "43gkPTUxkyB4",
        "colab_type": "code",
        "colab": {
          "base_uri": "https://localhost:8080/",
          "height": 204
        },
        "outputId": "e4c22da5-84ba-49a4-c263-397f2a15b7d1"
      },
      "source": [
        "yetmisHaricDf.head()"
      ],
      "execution_count": 47,
      "outputs": [
        {
          "output_type": "execute_result",
          "data": {
            "text/html": [
              "<div>\n",
              "<style scoped>\n",
              "    .dataframe tbody tr th:only-of-type {\n",
              "        vertical-align: middle;\n",
              "    }\n",
              "\n",
              "    .dataframe tbody tr th {\n",
              "        vertical-align: top;\n",
              "    }\n",
              "\n",
              "    .dataframe thead th {\n",
              "        text-align: right;\n",
              "    }\n",
              "</style>\n",
              "<table border=\"1\" class=\"dataframe\">\n",
              "  <thead>\n",
              "    <tr style=\"text-align: right;\">\n",
              "      <th></th>\n",
              "      <th>year</th>\n",
              "      <th>price</th>\n",
              "      <th>transmission</th>\n",
              "      <th>mileage</th>\n",
              "      <th>tax</th>\n",
              "      <th>mpg</th>\n",
              "      <th>engineSize</th>\n",
              "    </tr>\n",
              "  </thead>\n",
              "  <tbody>\n",
              "    <tr>\n",
              "      <th>6177</th>\n",
              "      <td>2019</td>\n",
              "      <td>65990</td>\n",
              "      <td>Semi-Auto</td>\n",
              "      <td>5076</td>\n",
              "      <td>150</td>\n",
              "      <td>30.4</td>\n",
              "      <td>3.0</td>\n",
              "    </tr>\n",
              "    <tr>\n",
              "      <th>5779</th>\n",
              "      <td>2020</td>\n",
              "      <td>65990</td>\n",
              "      <td>Semi-Auto</td>\n",
              "      <td>999</td>\n",
              "      <td>145</td>\n",
              "      <td>28.0</td>\n",
              "      <td>4.0</td>\n",
              "    </tr>\n",
              "    <tr>\n",
              "      <th>3191</th>\n",
              "      <td>2020</td>\n",
              "      <td>65980</td>\n",
              "      <td>Semi-Auto</td>\n",
              "      <td>3999</td>\n",
              "      <td>145</td>\n",
              "      <td>28.0</td>\n",
              "      <td>4.0</td>\n",
              "    </tr>\n",
              "    <tr>\n",
              "      <th>4727</th>\n",
              "      <td>2019</td>\n",
              "      <td>65000</td>\n",
              "      <td>Semi-Auto</td>\n",
              "      <td>3398</td>\n",
              "      <td>145</td>\n",
              "      <td>27.2</td>\n",
              "      <td>4.0</td>\n",
              "    </tr>\n",
              "    <tr>\n",
              "      <th>8814</th>\n",
              "      <td>2019</td>\n",
              "      <td>64999</td>\n",
              "      <td>Semi-Auto</td>\n",
              "      <td>119</td>\n",
              "      <td>145</td>\n",
              "      <td>40.9</td>\n",
              "      <td>3.0</td>\n",
              "    </tr>\n",
              "  </tbody>\n",
              "</table>\n",
              "</div>"
            ],
            "text/plain": [
              "      year  price transmission  mileage  tax   mpg  engineSize\n",
              "6177  2019  65990    Semi-Auto     5076  150  30.4         3.0\n",
              "5779  2020  65990    Semi-Auto      999  145  28.0         4.0\n",
              "3191  2020  65980    Semi-Auto     3999  145  28.0         4.0\n",
              "4727  2019  65000    Semi-Auto     3398  145  27.2         4.0\n",
              "8814  2019  64999    Semi-Auto      119  145  40.9         3.0"
            ]
          },
          "metadata": {
            "tags": []
          },
          "execution_count": 47
        }
      ]
    },
    {
      "cell_type": "code",
      "metadata": {
        "id": "ESit-i9Tk8ob",
        "colab_type": "code",
        "colab": {}
      },
      "source": [
        "verisonDf = yetmisHaricDf.drop(\"transmission\" , axis=1)"
      ],
      "execution_count": 48,
      "outputs": []
    },
    {
      "cell_type": "code",
      "metadata": {
        "id": "HxNkEEx0lFD4",
        "colab_type": "code",
        "colab": {}
      },
      "source": [
        "y = verisonDf[\"price\"].values\n",
        "x = verisonDf.drop(\"price\",axis=1).values"
      ],
      "execution_count": 51,
      "outputs": []
    },
    {
      "cell_type": "code",
      "metadata": {
        "id": "E8GmOgKolpDR",
        "colab_type": "code",
        "colab": {}
      },
      "source": [
        "from sklearn.model_selection import train_test_split"
      ],
      "execution_count": 54,
      "outputs": []
    },
    {
      "cell_type": "code",
      "metadata": {
        "id": "PykHqWbtmAr9",
        "colab_type": "code",
        "colab": {}
      },
      "source": [
        "x_train, x_test, y_train, y_test = train_test_split(x,y,test_size=0.3,random_state=10)"
      ],
      "execution_count": 55,
      "outputs": []
    },
    {
      "cell_type": "code",
      "metadata": {
        "id": "Cj1GsPvyml0e",
        "colab_type": "code",
        "colab": {
          "base_uri": "https://localhost:8080/",
          "height": 34
        },
        "outputId": "e722b487-83ac-4d6e-9502-5b084804a8d1"
      },
      "source": [
        "len(x_train)"
      ],
      "execution_count": 56,
      "outputs": [
        {
          "output_type": "execute_result",
          "data": {
            "text/plain": [
              "9090"
            ]
          },
          "metadata": {
            "tags": []
          },
          "execution_count": 56
        }
      ]
    },
    {
      "cell_type": "code",
      "metadata": {
        "id": "-UsCBMwnmzbb",
        "colab_type": "code",
        "colab": {
          "base_uri": "https://localhost:8080/",
          "height": 34
        },
        "outputId": "972ea07b-8204-4876-fb67-928da7b825b3"
      },
      "source": [
        "len(x_test)"
      ],
      "execution_count": 57,
      "outputs": [
        {
          "output_type": "execute_result",
          "data": {
            "text/plain": [
              "3897"
            ]
          },
          "metadata": {
            "tags": []
          },
          "execution_count": 57
        }
      ]
    },
    {
      "cell_type": "code",
      "metadata": {
        "id": "r-DW8_3Zm1Zj",
        "colab_type": "code",
        "colab": {}
      },
      "source": [
        "from sklearn.preprocessing import MinMaxScaler"
      ],
      "execution_count": 58,
      "outputs": []
    },
    {
      "cell_type": "code",
      "metadata": {
        "id": "FBZAl4uFm8vr",
        "colab_type": "code",
        "colab": {}
      },
      "source": [
        "scaler = MinMaxScaler()"
      ],
      "execution_count": 60,
      "outputs": []
    },
    {
      "cell_type": "code",
      "metadata": {
        "id": "jMxZUSqfm_dL",
        "colab_type": "code",
        "colab": {}
      },
      "source": [
        "x_train=scaler.fit_transform(x_train)"
      ],
      "execution_count": 61,
      "outputs": []
    },
    {
      "cell_type": "code",
      "metadata": {
        "id": "mI75zcGMnHir",
        "colab_type": "code",
        "colab": {}
      },
      "source": [
        "x_test=scaler.fit_transform(x_test)"
      ],
      "execution_count": 62,
      "outputs": []
    },
    {
      "cell_type": "code",
      "metadata": {
        "id": "Q47uD1g9nLoE",
        "colab_type": "code",
        "colab": {}
      },
      "source": [
        "from tensorflow.keras.models import Sequential\n",
        "from tensorflow.keras.layers import Dense"
      ],
      "execution_count": 63,
      "outputs": []
    },
    {
      "cell_type": "code",
      "metadata": {
        "id": "7oQwJ-J-nYCz",
        "colab_type": "code",
        "colab": {}
      },
      "source": [
        "model = Sequential()\n",
        "\n",
        "model.add(Dense(12,activation=\"relu\"))\n",
        "model.add(Dense(12,activation=\"relu\"))\n",
        "model.add(Dense(12,activation=\"relu\"))\n",
        "model.add(Dense(12,activation=\"relu\"))\n",
        "\n",
        "model.add(Dense(1))\n",
        "\n",
        "model.compile(optimizer=\"adam\",loss=\"mse\")"
      ],
      "execution_count": 66,
      "outputs": []
    },
    {
      "cell_type": "code",
      "metadata": {
        "id": "2NEPdU2Bn5mp",
        "colab_type": "code",
        "colab": {
          "base_uri": "https://localhost:8080/",
          "height": 1000
        },
        "outputId": "708dcca6-4d7d-43db-c6a3-1513c5612a7e"
      },
      "source": [
        "#validation_data ile doğrulama verisini veriyoruz ksıylama işlemi daha kolay oluyor val_loss doğrulama kaybı\n",
        "#epochs doğru verilmezse sıkıntı çıkabilir\n",
        "model.fit(x = x_train, y = y_train, validation_data=(x_test,y_test), batch_size=250, epochs=300)"
      ],
      "execution_count": 67,
      "outputs": [
        {
          "output_type": "stream",
          "text": [
            "Epoch 1/300\n",
            "37/37 [==============================] - 0s 6ms/step - loss: 672143424.0000 - val_loss: 688097984.0000\n",
            "Epoch 2/300\n",
            "37/37 [==============================] - 0s 2ms/step - loss: 672109504.0000 - val_loss: 688034496.0000\n",
            "Epoch 3/300\n",
            "37/37 [==============================] - 0s 2ms/step - loss: 671988480.0000 - val_loss: 687810880.0000\n",
            "Epoch 4/300\n",
            "37/37 [==============================] - 0s 2ms/step - loss: 671571520.0000 - val_loss: 687066368.0000\n",
            "Epoch 5/300\n",
            "37/37 [==============================] - 0s 2ms/step - loss: 670316544.0000 - val_loss: 684982656.0000\n",
            "Epoch 6/300\n",
            "37/37 [==============================] - 0s 2ms/step - loss: 667006976.0000 - val_loss: 679752384.0000\n",
            "Epoch 7/300\n",
            "37/37 [==============================] - 0s 2ms/step - loss: 659288576.0000 - val_loss: 668226304.0000\n",
            "Epoch 8/300\n",
            "37/37 [==============================] - 0s 2ms/step - loss: 643391808.0000 - val_loss: 645978240.0000\n",
            "Epoch 9/300\n",
            "37/37 [==============================] - 0s 2ms/step - loss: 614560768.0000 - val_loss: 607652480.0000\n",
            "Epoch 10/300\n",
            "37/37 [==============================] - 0s 2ms/step - loss: 567627904.0000 - val_loss: 548442240.0000\n",
            "Epoch 11/300\n",
            "37/37 [==============================] - 0s 2ms/step - loss: 498960608.0000 - val_loss: 466484384.0000\n",
            "Epoch 12/300\n",
            "37/37 [==============================] - 0s 2ms/step - loss: 409404544.0000 - val_loss: 366300928.0000\n",
            "Epoch 13/300\n",
            "37/37 [==============================] - 0s 2ms/step - loss: 307762176.0000 - val_loss: 262027168.0000\n",
            "Epoch 14/300\n",
            "37/37 [==============================] - 0s 2ms/step - loss: 211597968.0000 - val_loss: 174988224.0000\n",
            "Epoch 15/300\n",
            "37/37 [==============================] - 0s 2ms/step - loss: 141469824.0000 - val_loss: 122308680.0000\n",
            "Epoch 16/300\n",
            "37/37 [==============================] - 0s 2ms/step - loss: 105412112.0000 - val_loss: 101153240.0000\n",
            "Epoch 17/300\n",
            "37/37 [==============================] - 0s 2ms/step - loss: 93476896.0000 - val_loss: 95673280.0000\n",
            "Epoch 18/300\n",
            "37/37 [==============================] - 0s 2ms/step - loss: 90682088.0000 - val_loss: 94097544.0000\n",
            "Epoch 19/300\n",
            "37/37 [==============================] - 0s 2ms/step - loss: 89664672.0000 - val_loss: 93124840.0000\n",
            "Epoch 20/300\n",
            "37/37 [==============================] - 0s 2ms/step - loss: 88960944.0000 - val_loss: 92248032.0000\n",
            "Epoch 21/300\n",
            "37/37 [==============================] - 0s 2ms/step - loss: 88325488.0000 - val_loss: 91447224.0000\n",
            "Epoch 22/300\n",
            "37/37 [==============================] - 0s 2ms/step - loss: 87715176.0000 - val_loss: 90667400.0000\n",
            "Epoch 23/300\n",
            "37/37 [==============================] - 0s 2ms/step - loss: 87140648.0000 - val_loss: 89926992.0000\n",
            "Epoch 24/300\n",
            "37/37 [==============================] - 0s 2ms/step - loss: 86583240.0000 - val_loss: 89236904.0000\n",
            "Epoch 25/300\n",
            "37/37 [==============================] - 0s 2ms/step - loss: 86021712.0000 - val_loss: 88523880.0000\n",
            "Epoch 26/300\n",
            "37/37 [==============================] - 0s 2ms/step - loss: 85489776.0000 - val_loss: 87836728.0000\n",
            "Epoch 27/300\n",
            "37/37 [==============================] - 0s 2ms/step - loss: 84954000.0000 - val_loss: 87198600.0000\n",
            "Epoch 28/300\n",
            "37/37 [==============================] - 0s 2ms/step - loss: 84422048.0000 - val_loss: 86508760.0000\n",
            "Epoch 29/300\n",
            "37/37 [==============================] - 0s 2ms/step - loss: 83905440.0000 - val_loss: 85880504.0000\n",
            "Epoch 30/300\n",
            "37/37 [==============================] - 0s 2ms/step - loss: 83396888.0000 - val_loss: 85232352.0000\n",
            "Epoch 31/300\n",
            "37/37 [==============================] - 0s 2ms/step - loss: 82894800.0000 - val_loss: 84624544.0000\n",
            "Epoch 32/300\n",
            "37/37 [==============================] - 0s 2ms/step - loss: 82387576.0000 - val_loss: 83997152.0000\n",
            "Epoch 33/300\n",
            "37/37 [==============================] - 0s 2ms/step - loss: 81882304.0000 - val_loss: 83384400.0000\n",
            "Epoch 34/300\n",
            "37/37 [==============================] - 0s 2ms/step - loss: 81388656.0000 - val_loss: 82777104.0000\n",
            "Epoch 35/300\n",
            "37/37 [==============================] - 0s 2ms/step - loss: 80895336.0000 - val_loss: 82128728.0000\n",
            "Epoch 36/300\n",
            "37/37 [==============================] - 0s 2ms/step - loss: 80394168.0000 - val_loss: 81549624.0000\n",
            "Epoch 37/300\n",
            "37/37 [==============================] - 0s 2ms/step - loss: 79899856.0000 - val_loss: 80948608.0000\n",
            "Epoch 38/300\n",
            "37/37 [==============================] - 0s 2ms/step - loss: 79426680.0000 - val_loss: 80350064.0000\n",
            "Epoch 39/300\n",
            "37/37 [==============================] - 0s 2ms/step - loss: 78934936.0000 - val_loss: 79743776.0000\n",
            "Epoch 40/300\n",
            "37/37 [==============================] - 0s 2ms/step - loss: 78432720.0000 - val_loss: 79181840.0000\n",
            "Epoch 41/300\n",
            "37/37 [==============================] - 0s 2ms/step - loss: 77938248.0000 - val_loss: 78586408.0000\n",
            "Epoch 42/300\n",
            "37/37 [==============================] - 0s 2ms/step - loss: 77446752.0000 - val_loss: 77988888.0000\n",
            "Epoch 43/300\n",
            "37/37 [==============================] - 0s 2ms/step - loss: 76962728.0000 - val_loss: 77432736.0000\n",
            "Epoch 44/300\n",
            "37/37 [==============================] - 0s 2ms/step - loss: 76477440.0000 - val_loss: 76819072.0000\n",
            "Epoch 45/300\n",
            "37/37 [==============================] - 0s 2ms/step - loss: 75972256.0000 - val_loss: 76251272.0000\n",
            "Epoch 46/300\n",
            "37/37 [==============================] - 0s 2ms/step - loss: 75479888.0000 - val_loss: 75655696.0000\n",
            "Epoch 47/300\n",
            "37/37 [==============================] - 0s 2ms/step - loss: 74991048.0000 - val_loss: 75053472.0000\n",
            "Epoch 48/300\n",
            "37/37 [==============================] - 0s 2ms/step - loss: 74488432.0000 - val_loss: 74452616.0000\n",
            "Epoch 49/300\n",
            "37/37 [==============================] - 0s 2ms/step - loss: 73991984.0000 - val_loss: 73917040.0000\n",
            "Epoch 50/300\n",
            "37/37 [==============================] - 0s 2ms/step - loss: 73494432.0000 - val_loss: 73280800.0000\n",
            "Epoch 51/300\n",
            "37/37 [==============================] - 0s 2ms/step - loss: 72976880.0000 - val_loss: 72685832.0000\n",
            "Epoch 52/300\n",
            "37/37 [==============================] - 0s 2ms/step - loss: 72474408.0000 - val_loss: 72093008.0000\n",
            "Epoch 53/300\n",
            "37/37 [==============================] - 0s 2ms/step - loss: 71965256.0000 - val_loss: 71548280.0000\n",
            "Epoch 54/300\n",
            "37/37 [==============================] - 0s 2ms/step - loss: 71459104.0000 - val_loss: 70898224.0000\n",
            "Epoch 55/300\n",
            "37/37 [==============================] - 0s 2ms/step - loss: 70970952.0000 - val_loss: 70411960.0000\n",
            "Epoch 56/300\n",
            "37/37 [==============================] - 0s 2ms/step - loss: 70419728.0000 - val_loss: 69713024.0000\n",
            "Epoch 57/300\n",
            "37/37 [==============================] - 0s 2ms/step - loss: 69895352.0000 - val_loss: 69091680.0000\n",
            "Epoch 58/300\n",
            "37/37 [==============================] - 0s 2ms/step - loss: 69381800.0000 - val_loss: 68546696.0000\n",
            "Epoch 59/300\n",
            "37/37 [==============================] - 0s 2ms/step - loss: 68844608.0000 - val_loss: 67879752.0000\n",
            "Epoch 60/300\n",
            "37/37 [==============================] - 0s 2ms/step - loss: 68303904.0000 - val_loss: 67273984.0000\n",
            "Epoch 61/300\n",
            "37/37 [==============================] - 0s 2ms/step - loss: 67768000.0000 - val_loss: 66696252.0000\n",
            "Epoch 62/300\n",
            "37/37 [==============================] - 0s 2ms/step - loss: 67231176.0000 - val_loss: 65977884.0000\n",
            "Epoch 63/300\n",
            "37/37 [==============================] - 0s 2ms/step - loss: 66670892.0000 - val_loss: 65393376.0000\n",
            "Epoch 64/300\n",
            "37/37 [==============================] - 0s 2ms/step - loss: 66116364.0000 - val_loss: 64792936.0000\n",
            "Epoch 65/300\n",
            "37/37 [==============================] - 0s 2ms/step - loss: 65556196.0000 - val_loss: 64100820.0000\n",
            "Epoch 66/300\n",
            "37/37 [==============================] - 0s 2ms/step - loss: 64980860.0000 - val_loss: 63374620.0000\n",
            "Epoch 67/300\n",
            "37/37 [==============================] - 0s 2ms/step - loss: 64406272.0000 - val_loss: 62840408.0000\n",
            "Epoch 68/300\n",
            "37/37 [==============================] - 0s 2ms/step - loss: 63822224.0000 - val_loss: 62204588.0000\n",
            "Epoch 69/300\n",
            "37/37 [==============================] - 0s 2ms/step - loss: 63220992.0000 - val_loss: 61450868.0000\n",
            "Epoch 70/300\n",
            "37/37 [==============================] - 0s 2ms/step - loss: 62625264.0000 - val_loss: 60781680.0000\n",
            "Epoch 71/300\n",
            "37/37 [==============================] - 0s 2ms/step - loss: 62027864.0000 - val_loss: 60126044.0000\n",
            "Epoch 72/300\n",
            "37/37 [==============================] - 0s 2ms/step - loss: 61405372.0000 - val_loss: 59478772.0000\n",
            "Epoch 73/300\n",
            "37/37 [==============================] - 0s 2ms/step - loss: 60776852.0000 - val_loss: 58678184.0000\n",
            "Epoch 74/300\n",
            "37/37 [==============================] - 0s 2ms/step - loss: 60125796.0000 - val_loss: 58039228.0000\n",
            "Epoch 75/300\n",
            "37/37 [==============================] - 0s 2ms/step - loss: 59474328.0000 - val_loss: 57336628.0000\n",
            "Epoch 76/300\n",
            "37/37 [==============================] - 0s 2ms/step - loss: 58829468.0000 - val_loss: 56678124.0000\n",
            "Epoch 77/300\n",
            "37/37 [==============================] - 0s 2ms/step - loss: 58156620.0000 - val_loss: 55741992.0000\n",
            "Epoch 78/300\n",
            "37/37 [==============================] - 0s 2ms/step - loss: 57482644.0000 - val_loss: 55099048.0000\n",
            "Epoch 79/300\n",
            "37/37 [==============================] - 0s 2ms/step - loss: 56778844.0000 - val_loss: 54263484.0000\n",
            "Epoch 80/300\n",
            "37/37 [==============================] - 0s 2ms/step - loss: 56080260.0000 - val_loss: 53493448.0000\n",
            "Epoch 81/300\n",
            "37/37 [==============================] - 0s 2ms/step - loss: 55354696.0000 - val_loss: 52802292.0000\n",
            "Epoch 82/300\n",
            "37/37 [==============================] - 0s 2ms/step - loss: 54622408.0000 - val_loss: 52070032.0000\n",
            "Epoch 83/300\n",
            "37/37 [==============================] - 0s 2ms/step - loss: 53881392.0000 - val_loss: 51507508.0000\n",
            "Epoch 84/300\n",
            "37/37 [==============================] - 0s 2ms/step - loss: 53112420.0000 - val_loss: 50434272.0000\n",
            "Epoch 85/300\n",
            "37/37 [==============================] - 0s 2ms/step - loss: 52347548.0000 - val_loss: 49813820.0000\n",
            "Epoch 86/300\n",
            "37/37 [==============================] - 0s 2ms/step - loss: 51555976.0000 - val_loss: 48834384.0000\n",
            "Epoch 87/300\n",
            "37/37 [==============================] - 0s 2ms/step - loss: 50767804.0000 - val_loss: 48081584.0000\n",
            "Epoch 88/300\n",
            "37/37 [==============================] - 0s 2ms/step - loss: 49960704.0000 - val_loss: 47236756.0000\n",
            "Epoch 89/300\n",
            "37/37 [==============================] - 0s 2ms/step - loss: 49136172.0000 - val_loss: 46544636.0000\n",
            "Epoch 90/300\n",
            "37/37 [==============================] - 0s 2ms/step - loss: 48322784.0000 - val_loss: 45708392.0000\n",
            "Epoch 91/300\n",
            "37/37 [==============================] - 0s 2ms/step - loss: 47469012.0000 - val_loss: 44881780.0000\n",
            "Epoch 92/300\n",
            "37/37 [==============================] - 0s 2ms/step - loss: 46627932.0000 - val_loss: 43959620.0000\n",
            "Epoch 93/300\n",
            "37/37 [==============================] - 0s 2ms/step - loss: 45778228.0000 - val_loss: 43352172.0000\n",
            "Epoch 94/300\n",
            "37/37 [==============================] - 0s 2ms/step - loss: 44948612.0000 - val_loss: 42844832.0000\n",
            "Epoch 95/300\n",
            "37/37 [==============================] - 0s 2ms/step - loss: 44108344.0000 - val_loss: 42033424.0000\n",
            "Epoch 96/300\n",
            "37/37 [==============================] - 0s 2ms/step - loss: 43256832.0000 - val_loss: 41101592.0000\n",
            "Epoch 97/300\n",
            "37/37 [==============================] - 0s 2ms/step - loss: 42391956.0000 - val_loss: 40708440.0000\n",
            "Epoch 98/300\n",
            "37/37 [==============================] - 0s 2ms/step - loss: 41573300.0000 - val_loss: 39757564.0000\n",
            "Epoch 99/300\n",
            "37/37 [==============================] - 0s 2ms/step - loss: 40711684.0000 - val_loss: 39068972.0000\n",
            "Epoch 100/300\n",
            "37/37 [==============================] - 0s 2ms/step - loss: 39892620.0000 - val_loss: 38636172.0000\n",
            "Epoch 101/300\n",
            "37/37 [==============================] - 0s 2ms/step - loss: 39088124.0000 - val_loss: 37909096.0000\n",
            "Epoch 102/300\n",
            "37/37 [==============================] - 0s 2ms/step - loss: 38287144.0000 - val_loss: 37231424.0000\n",
            "Epoch 103/300\n",
            "37/37 [==============================] - 0s 2ms/step - loss: 37512656.0000 - val_loss: 36731364.0000\n",
            "Epoch 104/300\n",
            "37/37 [==============================] - 0s 2ms/step - loss: 36741548.0000 - val_loss: 36301636.0000\n",
            "Epoch 105/300\n",
            "37/37 [==============================] - 0s 2ms/step - loss: 36004436.0000 - val_loss: 35967032.0000\n",
            "Epoch 106/300\n",
            "37/37 [==============================] - 0s 2ms/step - loss: 35280040.0000 - val_loss: 35162836.0000\n",
            "Epoch 107/300\n",
            "37/37 [==============================] - 0s 2ms/step - loss: 34585368.0000 - val_loss: 35202496.0000\n",
            "Epoch 108/300\n",
            "37/37 [==============================] - 0s 2ms/step - loss: 33954972.0000 - val_loss: 34752180.0000\n",
            "Epoch 109/300\n",
            "37/37 [==============================] - 0s 2ms/step - loss: 33328380.0000 - val_loss: 34453912.0000\n",
            "Epoch 110/300\n",
            "37/37 [==============================] - 0s 2ms/step - loss: 32699890.0000 - val_loss: 33564776.0000\n",
            "Epoch 111/300\n",
            "37/37 [==============================] - 0s 3ms/step - loss: 32130160.0000 - val_loss: 33414410.0000\n",
            "Epoch 112/300\n",
            "37/37 [==============================] - 0s 2ms/step - loss: 31588568.0000 - val_loss: 32730080.0000\n",
            "Epoch 113/300\n",
            "37/37 [==============================] - 0s 2ms/step - loss: 31045758.0000 - val_loss: 32228532.0000\n",
            "Epoch 114/300\n",
            "37/37 [==============================] - 0s 2ms/step - loss: 30603016.0000 - val_loss: 33090970.0000\n",
            "Epoch 115/300\n",
            "37/37 [==============================] - 0s 2ms/step - loss: 30101684.0000 - val_loss: 32741902.0000\n",
            "Epoch 116/300\n",
            "37/37 [==============================] - 0s 2ms/step - loss: 29682454.0000 - val_loss: 32192914.0000\n",
            "Epoch 117/300\n",
            "37/37 [==============================] - 0s 2ms/step - loss: 29169648.0000 - val_loss: 31626672.0000\n",
            "Epoch 118/300\n",
            "37/37 [==============================] - 0s 2ms/step - loss: 28741498.0000 - val_loss: 31648016.0000\n",
            "Epoch 119/300\n",
            "37/37 [==============================] - 0s 2ms/step - loss: 28314436.0000 - val_loss: 31023108.0000\n",
            "Epoch 120/300\n",
            "37/37 [==============================] - 0s 2ms/step - loss: 27907340.0000 - val_loss: 30931316.0000\n",
            "Epoch 121/300\n",
            "37/37 [==============================] - 0s 2ms/step - loss: 27508354.0000 - val_loss: 30869866.0000\n",
            "Epoch 122/300\n",
            "37/37 [==============================] - 0s 2ms/step - loss: 27125346.0000 - val_loss: 30872928.0000\n",
            "Epoch 123/300\n",
            "37/37 [==============================] - 0s 2ms/step - loss: 26788492.0000 - val_loss: 30012454.0000\n",
            "Epoch 124/300\n",
            "37/37 [==============================] - 0s 2ms/step - loss: 26426216.0000 - val_loss: 29763470.0000\n",
            "Epoch 125/300\n",
            "37/37 [==============================] - 0s 2ms/step - loss: 26141436.0000 - val_loss: 30881232.0000\n",
            "Epoch 126/300\n",
            "37/37 [==============================] - 0s 2ms/step - loss: 25879504.0000 - val_loss: 29403052.0000\n",
            "Epoch 127/300\n",
            "37/37 [==============================] - 0s 2ms/step - loss: 25612606.0000 - val_loss: 28921432.0000\n",
            "Epoch 128/300\n",
            "37/37 [==============================] - 0s 2ms/step - loss: 25365780.0000 - val_loss: 28833370.0000\n",
            "Epoch 129/300\n",
            "37/37 [==============================] - 0s 2ms/step - loss: 25117258.0000 - val_loss: 29754328.0000\n",
            "Epoch 130/300\n",
            "37/37 [==============================] - 0s 2ms/step - loss: 24896584.0000 - val_loss: 29281834.0000\n",
            "Epoch 131/300\n",
            "37/37 [==============================] - 0s 2ms/step - loss: 24645386.0000 - val_loss: 28212990.0000\n",
            "Epoch 132/300\n",
            "37/37 [==============================] - 0s 2ms/step - loss: 24434138.0000 - val_loss: 28890122.0000\n",
            "Epoch 133/300\n",
            "37/37 [==============================] - 0s 2ms/step - loss: 24190808.0000 - val_loss: 28025806.0000\n",
            "Epoch 134/300\n",
            "37/37 [==============================] - 0s 2ms/step - loss: 23990236.0000 - val_loss: 28354518.0000\n",
            "Epoch 135/300\n",
            "37/37 [==============================] - 0s 2ms/step - loss: 23816416.0000 - val_loss: 27907046.0000\n",
            "Epoch 136/300\n",
            "37/37 [==============================] - 0s 2ms/step - loss: 23592208.0000 - val_loss: 27595582.0000\n",
            "Epoch 137/300\n",
            "37/37 [==============================] - 0s 2ms/step - loss: 23438274.0000 - val_loss: 27885660.0000\n",
            "Epoch 138/300\n",
            "37/37 [==============================] - 0s 2ms/step - loss: 23260164.0000 - val_loss: 27662628.0000\n",
            "Epoch 139/300\n",
            "37/37 [==============================] - 0s 2ms/step - loss: 23100492.0000 - val_loss: 27441016.0000\n",
            "Epoch 140/300\n",
            "37/37 [==============================] - 0s 2ms/step - loss: 22958092.0000 - val_loss: 26999198.0000\n",
            "Epoch 141/300\n",
            "37/37 [==============================] - 0s 2ms/step - loss: 22838186.0000 - val_loss: 27381286.0000\n",
            "Epoch 142/300\n",
            "37/37 [==============================] - 0s 2ms/step - loss: 22714298.0000 - val_loss: 26933080.0000\n",
            "Epoch 143/300\n",
            "37/37 [==============================] - 0s 2ms/step - loss: 22633428.0000 - val_loss: 27438562.0000\n",
            "Epoch 144/300\n",
            "37/37 [==============================] - 0s 2ms/step - loss: 22484298.0000 - val_loss: 26715600.0000\n",
            "Epoch 145/300\n",
            "37/37 [==============================] - 0s 2ms/step - loss: 22385556.0000 - val_loss: 26765570.0000\n",
            "Epoch 146/300\n",
            "37/37 [==============================] - 0s 2ms/step - loss: 22288106.0000 - val_loss: 26330648.0000\n",
            "Epoch 147/300\n",
            "37/37 [==============================] - 0s 2ms/step - loss: 22205682.0000 - val_loss: 26123408.0000\n",
            "Epoch 148/300\n",
            "37/37 [==============================] - 0s 2ms/step - loss: 22119298.0000 - val_loss: 27252522.0000\n",
            "Epoch 149/300\n",
            "37/37 [==============================] - 0s 2ms/step - loss: 22050410.0000 - val_loss: 26952586.0000\n",
            "Epoch 150/300\n",
            "37/37 [==============================] - 0s 2ms/step - loss: 21948712.0000 - val_loss: 26722772.0000\n",
            "Epoch 151/300\n",
            "37/37 [==============================] - 0s 2ms/step - loss: 21878596.0000 - val_loss: 26519310.0000\n",
            "Epoch 152/300\n",
            "37/37 [==============================] - 0s 2ms/step - loss: 21813440.0000 - val_loss: 26637302.0000\n",
            "Epoch 153/300\n",
            "37/37 [==============================] - 0s 2ms/step - loss: 21754940.0000 - val_loss: 26397284.0000\n",
            "Epoch 154/300\n",
            "37/37 [==============================] - 0s 2ms/step - loss: 21685020.0000 - val_loss: 26259458.0000\n",
            "Epoch 155/300\n",
            "37/37 [==============================] - 0s 2ms/step - loss: 21624390.0000 - val_loss: 25561746.0000\n",
            "Epoch 156/300\n",
            "37/37 [==============================] - 0s 2ms/step - loss: 21584576.0000 - val_loss: 26027038.0000\n",
            "Epoch 157/300\n",
            "37/37 [==============================] - 0s 2ms/step - loss: 21507402.0000 - val_loss: 26281752.0000\n",
            "Epoch 158/300\n",
            "37/37 [==============================] - 0s 2ms/step - loss: 21466018.0000 - val_loss: 26098212.0000\n",
            "Epoch 159/300\n",
            "37/37 [==============================] - 0s 2ms/step - loss: 21408370.0000 - val_loss: 25971590.0000\n",
            "Epoch 160/300\n",
            "37/37 [==============================] - 0s 2ms/step - loss: 21362994.0000 - val_loss: 25415432.0000\n",
            "Epoch 161/300\n",
            "37/37 [==============================] - 0s 2ms/step - loss: 21295840.0000 - val_loss: 26199304.0000\n",
            "Epoch 162/300\n",
            "37/37 [==============================] - 0s 2ms/step - loss: 21253468.0000 - val_loss: 25735314.0000\n",
            "Epoch 163/300\n",
            "37/37 [==============================] - 0s 2ms/step - loss: 21200262.0000 - val_loss: 25629162.0000\n",
            "Epoch 164/300\n",
            "37/37 [==============================] - 0s 2ms/step - loss: 21147300.0000 - val_loss: 25339162.0000\n",
            "Epoch 165/300\n",
            "37/37 [==============================] - 0s 2ms/step - loss: 21122534.0000 - val_loss: 25406810.0000\n",
            "Epoch 166/300\n",
            "37/37 [==============================] - 0s 2ms/step - loss: 21046858.0000 - val_loss: 25457830.0000\n",
            "Epoch 167/300\n",
            "37/37 [==============================] - 0s 2ms/step - loss: 21007742.0000 - val_loss: 25888718.0000\n",
            "Epoch 168/300\n",
            "37/37 [==============================] - 0s 2ms/step - loss: 20958152.0000 - val_loss: 25189022.0000\n",
            "Epoch 169/300\n",
            "37/37 [==============================] - 0s 2ms/step - loss: 20921374.0000 - val_loss: 25650884.0000\n",
            "Epoch 170/300\n",
            "37/37 [==============================] - 0s 2ms/step - loss: 20865378.0000 - val_loss: 24894290.0000\n",
            "Epoch 171/300\n",
            "37/37 [==============================] - 0s 2ms/step - loss: 20830722.0000 - val_loss: 25489970.0000\n",
            "Epoch 172/300\n",
            "37/37 [==============================] - 0s 2ms/step - loss: 20784420.0000 - val_loss: 25178890.0000\n",
            "Epoch 173/300\n",
            "37/37 [==============================] - 0s 2ms/step - loss: 20761466.0000 - val_loss: 25504024.0000\n",
            "Epoch 174/300\n",
            "37/37 [==============================] - 0s 2ms/step - loss: 20715852.0000 - val_loss: 25206604.0000\n",
            "Epoch 175/300\n",
            "37/37 [==============================] - 0s 2ms/step - loss: 20653068.0000 - val_loss: 25329552.0000\n",
            "Epoch 176/300\n",
            "37/37 [==============================] - 0s 2ms/step - loss: 20622498.0000 - val_loss: 24963944.0000\n",
            "Epoch 177/300\n",
            "37/37 [==============================] - 0s 2ms/step - loss: 20577164.0000 - val_loss: 24740722.0000\n",
            "Epoch 178/300\n",
            "37/37 [==============================] - 0s 2ms/step - loss: 20557130.0000 - val_loss: 25044826.0000\n",
            "Epoch 179/300\n",
            "37/37 [==============================] - 0s 2ms/step - loss: 20504904.0000 - val_loss: 24971292.0000\n",
            "Epoch 180/300\n",
            "37/37 [==============================] - 0s 2ms/step - loss: 20470780.0000 - val_loss: 24785172.0000\n",
            "Epoch 181/300\n",
            "37/37 [==============================] - 0s 2ms/step - loss: 20440202.0000 - val_loss: 24519804.0000\n",
            "Epoch 182/300\n",
            "37/37 [==============================] - 0s 2ms/step - loss: 20436076.0000 - val_loss: 24888890.0000\n",
            "Epoch 183/300\n",
            "37/37 [==============================] - 0s 2ms/step - loss: 20374038.0000 - val_loss: 25216198.0000\n",
            "Epoch 184/300\n",
            "37/37 [==============================] - 0s 2ms/step - loss: 20348878.0000 - val_loss: 24759798.0000\n",
            "Epoch 185/300\n",
            "37/37 [==============================] - 0s 2ms/step - loss: 20341244.0000 - val_loss: 24080818.0000\n",
            "Epoch 186/300\n",
            "37/37 [==============================] - 0s 2ms/step - loss: 20312392.0000 - val_loss: 24794796.0000\n",
            "Epoch 187/300\n",
            "37/37 [==============================] - 0s 2ms/step - loss: 20294256.0000 - val_loss: 24342084.0000\n",
            "Epoch 188/300\n",
            "37/37 [==============================] - 0s 2ms/step - loss: 20273956.0000 - val_loss: 24736344.0000\n",
            "Epoch 189/300\n",
            "37/37 [==============================] - 0s 2ms/step - loss: 20214490.0000 - val_loss: 24009146.0000\n",
            "Epoch 190/300\n",
            "37/37 [==============================] - 0s 2ms/step - loss: 20222550.0000 - val_loss: 24927232.0000\n",
            "Epoch 191/300\n",
            "37/37 [==============================] - 0s 2ms/step - loss: 20182202.0000 - val_loss: 24710008.0000\n",
            "Epoch 192/300\n",
            "37/37 [==============================] - 0s 2ms/step - loss: 20168624.0000 - val_loss: 24776034.0000\n",
            "Epoch 193/300\n",
            "37/37 [==============================] - 0s 2ms/step - loss: 20130140.0000 - val_loss: 24537710.0000\n",
            "Epoch 194/300\n",
            "37/37 [==============================] - 0s 2ms/step - loss: 20105192.0000 - val_loss: 24375284.0000\n",
            "Epoch 195/300\n",
            "37/37 [==============================] - 0s 2ms/step - loss: 20082306.0000 - val_loss: 24341756.0000\n",
            "Epoch 196/300\n",
            "37/37 [==============================] - 0s 2ms/step - loss: 20046724.0000 - val_loss: 25289274.0000\n",
            "Epoch 197/300\n",
            "37/37 [==============================] - 0s 2ms/step - loss: 20054530.0000 - val_loss: 24427802.0000\n",
            "Epoch 198/300\n",
            "37/37 [==============================] - 0s 2ms/step - loss: 20011830.0000 - val_loss: 24695172.0000\n",
            "Epoch 199/300\n",
            "37/37 [==============================] - 0s 2ms/step - loss: 20041212.0000 - val_loss: 24523906.0000\n",
            "Epoch 200/300\n",
            "37/37 [==============================] - 0s 2ms/step - loss: 19988372.0000 - val_loss: 23959464.0000\n",
            "Epoch 201/300\n",
            "37/37 [==============================] - 0s 2ms/step - loss: 19964140.0000 - val_loss: 23853060.0000\n",
            "Epoch 202/300\n",
            "37/37 [==============================] - 0s 2ms/step - loss: 19927486.0000 - val_loss: 23701144.0000\n",
            "Epoch 203/300\n",
            "37/37 [==============================] - 0s 2ms/step - loss: 19915276.0000 - val_loss: 24238602.0000\n",
            "Epoch 204/300\n",
            "37/37 [==============================] - 0s 2ms/step - loss: 19874086.0000 - val_loss: 24456238.0000\n",
            "Epoch 205/300\n",
            "37/37 [==============================] - 0s 2ms/step - loss: 19846312.0000 - val_loss: 23823356.0000\n",
            "Epoch 206/300\n",
            "37/37 [==============================] - 0s 2ms/step - loss: 19853436.0000 - val_loss: 24229938.0000\n",
            "Epoch 207/300\n",
            "37/37 [==============================] - 0s 2ms/step - loss: 19811810.0000 - val_loss: 24148048.0000\n",
            "Epoch 208/300\n",
            "37/37 [==============================] - 0s 2ms/step - loss: 19802984.0000 - val_loss: 23883902.0000\n",
            "Epoch 209/300\n",
            "37/37 [==============================] - 0s 2ms/step - loss: 19791516.0000 - val_loss: 23650954.0000\n",
            "Epoch 210/300\n",
            "37/37 [==============================] - 0s 2ms/step - loss: 19778368.0000 - val_loss: 24588458.0000\n",
            "Epoch 211/300\n",
            "37/37 [==============================] - 0s 2ms/step - loss: 19781620.0000 - val_loss: 24299504.0000\n",
            "Epoch 212/300\n",
            "37/37 [==============================] - 0s 2ms/step - loss: 19722676.0000 - val_loss: 24088368.0000\n",
            "Epoch 213/300\n",
            "37/37 [==============================] - 0s 2ms/step - loss: 19699654.0000 - val_loss: 23781134.0000\n",
            "Epoch 214/300\n",
            "37/37 [==============================] - 0s 2ms/step - loss: 19695128.0000 - val_loss: 23520722.0000\n",
            "Epoch 215/300\n",
            "37/37 [==============================] - 0s 2ms/step - loss: 19654596.0000 - val_loss: 23876700.0000\n",
            "Epoch 216/300\n",
            "37/37 [==============================] - 0s 2ms/step - loss: 19641980.0000 - val_loss: 24044392.0000\n",
            "Epoch 217/300\n",
            "37/37 [==============================] - 0s 2ms/step - loss: 19636932.0000 - val_loss: 24002564.0000\n",
            "Epoch 218/300\n",
            "37/37 [==============================] - 0s 2ms/step - loss: 19614552.0000 - val_loss: 24021868.0000\n",
            "Epoch 219/300\n",
            "37/37 [==============================] - 0s 2ms/step - loss: 19593324.0000 - val_loss: 23653168.0000\n",
            "Epoch 220/300\n",
            "37/37 [==============================] - 0s 2ms/step - loss: 19577320.0000 - val_loss: 24019210.0000\n",
            "Epoch 221/300\n",
            "37/37 [==============================] - 0s 2ms/step - loss: 19548818.0000 - val_loss: 23739288.0000\n",
            "Epoch 222/300\n",
            "37/37 [==============================] - 0s 2ms/step - loss: 19545290.0000 - val_loss: 23688442.0000\n",
            "Epoch 223/300\n",
            "37/37 [==============================] - 0s 2ms/step - loss: 19529848.0000 - val_loss: 23684072.0000\n",
            "Epoch 224/300\n",
            "37/37 [==============================] - 0s 2ms/step - loss: 19530054.0000 - val_loss: 23698630.0000\n",
            "Epoch 225/300\n",
            "37/37 [==============================] - 0s 2ms/step - loss: 19512068.0000 - val_loss: 23974850.0000\n",
            "Epoch 226/300\n",
            "37/37 [==============================] - 0s 2ms/step - loss: 19491110.0000 - val_loss: 23783214.0000\n",
            "Epoch 227/300\n",
            "37/37 [==============================] - 0s 2ms/step - loss: 19465478.0000 - val_loss: 23490056.0000\n",
            "Epoch 228/300\n",
            "37/37 [==============================] - 0s 2ms/step - loss: 19456342.0000 - val_loss: 23777370.0000\n",
            "Epoch 229/300\n",
            "37/37 [==============================] - 0s 2ms/step - loss: 19435914.0000 - val_loss: 23957278.0000\n",
            "Epoch 230/300\n",
            "37/37 [==============================] - 0s 2ms/step - loss: 19428240.0000 - val_loss: 23467022.0000\n",
            "Epoch 231/300\n",
            "37/37 [==============================] - 0s 2ms/step - loss: 19408734.0000 - val_loss: 23399452.0000\n",
            "Epoch 232/300\n",
            "37/37 [==============================] - 0s 2ms/step - loss: 19402898.0000 - val_loss: 23272972.0000\n",
            "Epoch 233/300\n",
            "37/37 [==============================] - 0s 2ms/step - loss: 19389682.0000 - val_loss: 23585220.0000\n",
            "Epoch 234/300\n",
            "37/37 [==============================] - 0s 2ms/step - loss: 19383106.0000 - val_loss: 23749520.0000\n",
            "Epoch 235/300\n",
            "37/37 [==============================] - 0s 2ms/step - loss: 19354118.0000 - val_loss: 23220096.0000\n",
            "Epoch 236/300\n",
            "37/37 [==============================] - 0s 2ms/step - loss: 19336250.0000 - val_loss: 23588140.0000\n",
            "Epoch 237/300\n",
            "37/37 [==============================] - 0s 2ms/step - loss: 19337262.0000 - val_loss: 23539362.0000\n",
            "Epoch 238/300\n",
            "37/37 [==============================] - 0s 2ms/step - loss: 19336000.0000 - val_loss: 24855694.0000\n",
            "Epoch 239/300\n",
            "37/37 [==============================] - 0s 2ms/step - loss: 19353810.0000 - val_loss: 23456274.0000\n",
            "Epoch 240/300\n",
            "37/37 [==============================] - 0s 2ms/step - loss: 19293938.0000 - val_loss: 23509478.0000\n",
            "Epoch 241/300\n",
            "37/37 [==============================] - 0s 2ms/step - loss: 19285352.0000 - val_loss: 23810330.0000\n",
            "Epoch 242/300\n",
            "37/37 [==============================] - 0s 2ms/step - loss: 19276804.0000 - val_loss: 23100240.0000\n",
            "Epoch 243/300\n",
            "37/37 [==============================] - 0s 2ms/step - loss: 19249354.0000 - val_loss: 23703770.0000\n",
            "Epoch 244/300\n",
            "37/37 [==============================] - 0s 2ms/step - loss: 19250150.0000 - val_loss: 24209224.0000\n",
            "Epoch 245/300\n",
            "37/37 [==============================] - 0s 2ms/step - loss: 19276460.0000 - val_loss: 23662528.0000\n",
            "Epoch 246/300\n",
            "37/37 [==============================] - 0s 2ms/step - loss: 19247378.0000 - val_loss: 23068654.0000\n",
            "Epoch 247/300\n",
            "37/37 [==============================] - 0s 2ms/step - loss: 19206594.0000 - val_loss: 23231894.0000\n",
            "Epoch 248/300\n",
            "37/37 [==============================] - 0s 2ms/step - loss: 19197404.0000 - val_loss: 23367054.0000\n",
            "Epoch 249/300\n",
            "37/37 [==============================] - 0s 2ms/step - loss: 19183362.0000 - val_loss: 23314924.0000\n",
            "Epoch 250/300\n",
            "37/37 [==============================] - 0s 2ms/step - loss: 19168002.0000 - val_loss: 23384662.0000\n",
            "Epoch 251/300\n",
            "37/37 [==============================] - 0s 2ms/step - loss: 19177512.0000 - val_loss: 23377940.0000\n",
            "Epoch 252/300\n",
            "37/37 [==============================] - 0s 2ms/step - loss: 19146198.0000 - val_loss: 23940106.0000\n",
            "Epoch 253/300\n",
            "37/37 [==============================] - 0s 2ms/step - loss: 19147376.0000 - val_loss: 23232838.0000\n",
            "Epoch 254/300\n",
            "37/37 [==============================] - 0s 2ms/step - loss: 19125622.0000 - val_loss: 23195666.0000\n",
            "Epoch 255/300\n",
            "37/37 [==============================] - 0s 2ms/step - loss: 19118938.0000 - val_loss: 23358572.0000\n",
            "Epoch 256/300\n",
            "37/37 [==============================] - 0s 2ms/step - loss: 19112902.0000 - val_loss: 23179530.0000\n",
            "Epoch 257/300\n",
            "37/37 [==============================] - 0s 2ms/step - loss: 19102328.0000 - val_loss: 23175172.0000\n",
            "Epoch 258/300\n",
            "37/37 [==============================] - 0s 2ms/step - loss: 19077608.0000 - val_loss: 23442866.0000\n",
            "Epoch 259/300\n",
            "37/37 [==============================] - 0s 2ms/step - loss: 19075018.0000 - val_loss: 23136278.0000\n",
            "Epoch 260/300\n",
            "37/37 [==============================] - 0s 2ms/step - loss: 19091848.0000 - val_loss: 22974182.0000\n",
            "Epoch 261/300\n",
            "37/37 [==============================] - 0s 2ms/step - loss: 19092820.0000 - val_loss: 22895750.0000\n",
            "Epoch 262/300\n",
            "37/37 [==============================] - 0s 2ms/step - loss: 19054908.0000 - val_loss: 23006328.0000\n",
            "Epoch 263/300\n",
            "37/37 [==============================] - 0s 2ms/step - loss: 19026810.0000 - val_loss: 23037268.0000\n",
            "Epoch 264/300\n",
            "37/37 [==============================] - 0s 2ms/step - loss: 19060554.0000 - val_loss: 22808872.0000\n",
            "Epoch 265/300\n",
            "37/37 [==============================] - 0s 2ms/step - loss: 18994442.0000 - val_loss: 23155146.0000\n",
            "Epoch 266/300\n",
            "37/37 [==============================] - 0s 2ms/step - loss: 19045384.0000 - val_loss: 22479672.0000\n",
            "Epoch 267/300\n",
            "37/37 [==============================] - 0s 2ms/step - loss: 18990518.0000 - val_loss: 23084238.0000\n",
            "Epoch 268/300\n",
            "37/37 [==============================] - 0s 2ms/step - loss: 18961454.0000 - val_loss: 22482404.0000\n",
            "Epoch 269/300\n",
            "37/37 [==============================] - 0s 2ms/step - loss: 18988306.0000 - val_loss: 22720854.0000\n",
            "Epoch 270/300\n",
            "37/37 [==============================] - 0s 2ms/step - loss: 18972224.0000 - val_loss: 22889680.0000\n",
            "Epoch 271/300\n",
            "37/37 [==============================] - 0s 2ms/step - loss: 18942654.0000 - val_loss: 22712592.0000\n",
            "Epoch 272/300\n",
            "37/37 [==============================] - 0s 2ms/step - loss: 18943006.0000 - val_loss: 23047636.0000\n",
            "Epoch 273/300\n",
            "37/37 [==============================] - 0s 2ms/step - loss: 18928178.0000 - val_loss: 22457262.0000\n",
            "Epoch 274/300\n",
            "37/37 [==============================] - 0s 2ms/step - loss: 18965218.0000 - val_loss: 22964364.0000\n",
            "Epoch 275/300\n",
            "37/37 [==============================] - 0s 2ms/step - loss: 18912040.0000 - val_loss: 23216590.0000\n",
            "Epoch 276/300\n",
            "37/37 [==============================] - 0s 2ms/step - loss: 18894942.0000 - val_loss: 22970454.0000\n",
            "Epoch 277/300\n",
            "37/37 [==============================] - 0s 2ms/step - loss: 18948662.0000 - val_loss: 22318622.0000\n",
            "Epoch 278/300\n",
            "37/37 [==============================] - 0s 2ms/step - loss: 18881858.0000 - val_loss: 22630882.0000\n",
            "Epoch 279/300\n",
            "37/37 [==============================] - 0s 2ms/step - loss: 18874556.0000 - val_loss: 22893004.0000\n",
            "Epoch 280/300\n",
            "37/37 [==============================] - 0s 2ms/step - loss: 18884854.0000 - val_loss: 22576094.0000\n",
            "Epoch 281/300\n",
            "37/37 [==============================] - 0s 2ms/step - loss: 18853736.0000 - val_loss: 22983848.0000\n",
            "Epoch 282/300\n",
            "37/37 [==============================] - 0s 2ms/step - loss: 18868300.0000 - val_loss: 23022648.0000\n",
            "Epoch 283/300\n",
            "37/37 [==============================] - 0s 2ms/step - loss: 18828706.0000 - val_loss: 22983508.0000\n",
            "Epoch 284/300\n",
            "37/37 [==============================] - 0s 2ms/step - loss: 18837230.0000 - val_loss: 22501490.0000\n",
            "Epoch 285/300\n",
            "37/37 [==============================] - 0s 2ms/step - loss: 18814568.0000 - val_loss: 22477750.0000\n",
            "Epoch 286/300\n",
            "37/37 [==============================] - 0s 2ms/step - loss: 18882730.0000 - val_loss: 22417888.0000\n",
            "Epoch 287/300\n",
            "37/37 [==============================] - 0s 2ms/step - loss: 18785694.0000 - val_loss: 22666870.0000\n",
            "Epoch 288/300\n",
            "37/37 [==============================] - 0s 2ms/step - loss: 18786768.0000 - val_loss: 22661430.0000\n",
            "Epoch 289/300\n",
            "37/37 [==============================] - 0s 2ms/step - loss: 18791136.0000 - val_loss: 22764310.0000\n",
            "Epoch 290/300\n",
            "37/37 [==============================] - 0s 2ms/step - loss: 18823858.0000 - val_loss: 22335000.0000\n",
            "Epoch 291/300\n",
            "37/37 [==============================] - 0s 2ms/step - loss: 18762350.0000 - val_loss: 23082754.0000\n",
            "Epoch 292/300\n",
            "37/37 [==============================] - 0s 2ms/step - loss: 18777754.0000 - val_loss: 23075854.0000\n",
            "Epoch 293/300\n",
            "37/37 [==============================] - 0s 2ms/step - loss: 18744782.0000 - val_loss: 22812740.0000\n",
            "Epoch 294/300\n",
            "37/37 [==============================] - 0s 2ms/step - loss: 18732780.0000 - val_loss: 22389394.0000\n",
            "Epoch 295/300\n",
            "37/37 [==============================] - 0s 3ms/step - loss: 18722382.0000 - val_loss: 22783750.0000\n",
            "Epoch 296/300\n",
            "37/37 [==============================] - 0s 2ms/step - loss: 18718420.0000 - val_loss: 22468078.0000\n",
            "Epoch 297/300\n",
            "37/37 [==============================] - 0s 2ms/step - loss: 18719660.0000 - val_loss: 22331904.0000\n",
            "Epoch 298/300\n",
            "37/37 [==============================] - 0s 2ms/step - loss: 18713010.0000 - val_loss: 22022208.0000\n",
            "Epoch 299/300\n",
            "37/37 [==============================] - 0s 2ms/step - loss: 18726082.0000 - val_loss: 22642480.0000\n",
            "Epoch 300/300\n",
            "37/37 [==============================] - 0s 2ms/step - loss: 18688248.0000 - val_loss: 22477872.0000\n"
          ],
          "name": "stdout"
        },
        {
          "output_type": "execute_result",
          "data": {
            "text/plain": [
              "<tensorflow.python.keras.callbacks.History at 0x7f758ad07780>"
            ]
          },
          "metadata": {
            "tags": []
          },
          "execution_count": 67
        }
      ]
    },
    {
      "cell_type": "code",
      "metadata": {
        "id": "qRzR4dbipCRH",
        "colab_type": "code",
        "colab": {}
      },
      "source": [
        "# artık hem normal kayıp hemde doğrulama verisi kayıbını veriyor\n",
        "kayipVerisi= pd.DataFrame(model.history.history)"
      ],
      "execution_count": 68,
      "outputs": []
    },
    {
      "cell_type": "code",
      "metadata": {
        "id": "9C-WYnrDplv6",
        "colab_type": "code",
        "colab": {
          "base_uri": "https://localhost:8080/",
          "height": 293
        },
        "outputId": "0c2fe527-669c-4bbd-da49-adc984d76a59"
      },
      "source": [
        "kayipVerisi.plot()"
      ],
      "execution_count": 69,
      "outputs": [
        {
          "output_type": "execute_result",
          "data": {
            "text/plain": [
              "<matplotlib.axes._subplots.AxesSubplot at 0x7f75875d91d0>"
            ]
          },
          "metadata": {
            "tags": []
          },
          "execution_count": 69
        },
        {
          "output_type": "display_data",
          "data": {
            "image/png": "[encoded data removed]",
            "text/plain": [
              "<Figure size 432x288 with 1 Axes>"
            ]
          },
          "metadata": {
            "tags": [],
            "needs_background": "light"
          }
        }
      ]
    },
    {
      "cell_type": "code",
      "metadata": {
        "id": "jHUpTOwUponN",
        "colab_type": "code",
        "colab": {}
      },
      "source": [
        "from sklearn.metrics import  mean_absolute_error, mean_squared_error"
      ],
      "execution_count": 70,
      "outputs": []
    },
    {
      "cell_type": "code",
      "metadata": {
        "id": "Vp98HF7-qFDi",
        "colab_type": "code",
        "colab": {}
      },
      "source": [
        "tahminDizisi = model.predict(x_test)"
      ],
      "execution_count": 71,
      "outputs": []
    },
    {
      "cell_type": "code",
      "metadata": {
        "id": "C1MiS9VhqJ8F",
        "colab_type": "code",
        "colab": {
          "base_uri": "https://localhost:8080/",
          "height": 34
        },
        "outputId": "0651267d-a398-4703-9f0a-aeabf5a98cb3"
      },
      "source": [
        "mean_absolute_error(y_test,tahminDizisi)"
      ],
      "execution_count": 72,
      "outputs": [
        {
          "output_type": "execute_result",
          "data": {
            "text/plain": [
              "3357.0253689173464"
            ]
          },
          "metadata": {
            "tags": []
          },
          "execution_count": 72
        }
      ]
    },
    {
      "cell_type": "code",
      "metadata": {
        "id": "IzDS6lUTqTB9",
        "colab_type": "code",
        "colab": {
          "base_uri": "https://localhost:8080/",
          "height": 297
        },
        "outputId": "3e05847f-bfd6-4f64-9c44-430658520385"
      },
      "source": [
        "verisonDf.describe()"
      ],
      "execution_count": 73,
      "outputs": [
        {
          "output_type": "execute_result",
          "data": {
            "text/html": [
              "<div>\n",
              "<style scoped>\n",
              "    .dataframe tbody tr th:only-of-type {\n",
              "        vertical-align: middle;\n",
              "    }\n",
              "\n",
              "    .dataframe tbody tr th {\n",
              "        vertical-align: top;\n",
              "    }\n",
              "\n",
              "    .dataframe thead th {\n",
              "        text-align: right;\n",
              "    }\n",
              "</style>\n",
              "<table border=\"1\" class=\"dataframe\">\n",
              "  <thead>\n",
              "    <tr style=\"text-align: right;\">\n",
              "      <th></th>\n",
              "      <th>year</th>\n",
              "      <th>price</th>\n",
              "      <th>mileage</th>\n",
              "      <th>tax</th>\n",
              "      <th>mpg</th>\n",
              "      <th>engineSize</th>\n",
              "    </tr>\n",
              "  </thead>\n",
              "  <tbody>\n",
              "    <tr>\n",
              "      <th>count</th>\n",
              "      <td>12987.000000</td>\n",
              "      <td>12987.000000</td>\n",
              "      <td>12987.000000</td>\n",
              "      <td>12987.000000</td>\n",
              "      <td>12987.000000</td>\n",
              "      <td>12987.000000</td>\n",
              "    </tr>\n",
              "    <tr>\n",
              "      <th>mean</th>\n",
              "      <td>2017.285516</td>\n",
              "      <td>24074.855779</td>\n",
              "      <td>22133.367367</td>\n",
              "      <td>129.676215</td>\n",
              "      <td>55.438392</td>\n",
              "      <td>2.051059</td>\n",
              "    </tr>\n",
              "    <tr>\n",
              "      <th>std</th>\n",
              "      <td>2.189633</td>\n",
              "      <td>9866.601115</td>\n",
              "      <td>21197.472376</td>\n",
              "      <td>65.167429</td>\n",
              "      <td>15.025902</td>\n",
              "      <td>0.532313</td>\n",
              "    </tr>\n",
              "    <tr>\n",
              "      <th>min</th>\n",
              "      <td>1997.000000</td>\n",
              "      <td>650.000000</td>\n",
              "      <td>1.000000</td>\n",
              "      <td>0.000000</td>\n",
              "      <td>1.100000</td>\n",
              "      <td>0.000000</td>\n",
              "    </tr>\n",
              "    <tr>\n",
              "      <th>25%</th>\n",
              "      <td>2016.000000</td>\n",
              "      <td>17355.000000</td>\n",
              "      <td>6320.000000</td>\n",
              "      <td>125.000000</td>\n",
              "      <td>45.600000</td>\n",
              "      <td>1.700000</td>\n",
              "    </tr>\n",
              "    <tr>\n",
              "      <th>50%</th>\n",
              "      <td>2018.000000</td>\n",
              "      <td>22299.000000</td>\n",
              "      <td>15371.000000</td>\n",
              "      <td>145.000000</td>\n",
              "      <td>56.500000</td>\n",
              "      <td>2.000000</td>\n",
              "    </tr>\n",
              "    <tr>\n",
              "      <th>75%</th>\n",
              "      <td>2019.000000</td>\n",
              "      <td>28706.000000</td>\n",
              "      <td>31986.500000</td>\n",
              "      <td>145.000000</td>\n",
              "      <td>64.200000</td>\n",
              "      <td>2.100000</td>\n",
              "    </tr>\n",
              "    <tr>\n",
              "      <th>max</th>\n",
              "      <td>2020.000000</td>\n",
              "      <td>65990.000000</td>\n",
              "      <td>259000.000000</td>\n",
              "      <td>580.000000</td>\n",
              "      <td>217.300000</td>\n",
              "      <td>6.200000</td>\n",
              "    </tr>\n",
              "  </tbody>\n",
              "</table>\n",
              "</div>"
            ],
            "text/plain": [
              "               year         price  ...           mpg    engineSize\n",
              "count  12987.000000  12987.000000  ...  12987.000000  12987.000000\n",
              "mean    2017.285516  24074.855779  ...     55.438392      2.051059\n",
              "std        2.189633   9866.601115  ...     15.025902      0.532313\n",
              "min     1997.000000    650.000000  ...      1.100000      0.000000\n",
              "25%     2016.000000  17355.000000  ...     45.600000      1.700000\n",
              "50%     2018.000000  22299.000000  ...     56.500000      2.000000\n",
              "75%     2019.000000  28706.000000  ...     64.200000      2.100000\n",
              "max     2020.000000  65990.000000  ...    217.300000      6.200000\n",
              "\n",
              "[8 rows x 6 columns]"
            ]
          },
          "metadata": {
            "tags": []
          },
          "execution_count": 73
        }
      ]
    },
    {
      "cell_type": "code",
      "metadata": {
        "id": "so5No9mMqgL8",
        "colab_type": "code",
        "colab": {
          "base_uri": "https://localhost:8080/",
          "height": 282
        },
        "outputId": "3b1c6314-afbe-46a8-c8d6-c49b2a636844"
      },
      "source": [
        "plt.scatter(y_test,tahminDizisi)\n",
        "plt.plot(y_test,y_test,\"r\")"
      ],
      "execution_count": 76,
      "outputs": [
        {
          "output_type": "execute_result",
          "data": {
            "text/plain": [
              "[<matplotlib.lines.Line2D at 0x7f75c204e358>]"
            ]
          },
          "metadata": {
            "tags": []
          },
          "execution_count": 76
        },
        {
          "output_type": "display_data",
          "data": {
            "image/png": "[encoded data removed]",
            "text/plain": [
              "<Figure size 432x288 with 1 Axes>"
            ]
          },
          "metadata": {
            "tags": [],
            "needs_background": "light"
          }
        }
      ]
    },
    {
      "cell_type": "code",
      "metadata": {
        "id": "OZfO-mDHrGIy",
        "colab_type": "code",
        "colab": {
          "base_uri": "https://localhost:8080/",
          "height": 136
        },
        "outputId": "97e0b81d-4ec9-40cd-b397-15d32fc05de2"
      },
      "source": [
        "verisonDf.iloc[2]"
      ],
      "execution_count": 77,
      "outputs": [
        {
          "output_type": "execute_result",
          "data": {
            "text/plain": [
              "year           2020.0\n",
              "price         65980.0\n",
              "mileage        3999.0\n",
              "tax             145.0\n",
              "mpg              28.0\n",
              "engineSize        4.0\n",
              "Name: 3191, dtype: float64"
            ]
          },
          "metadata": {
            "tags": []
          },
          "execution_count": 77
        }
      ]
    },
    {
      "cell_type": "code",
      "metadata": {
        "id": "E6XVvwEDrdWH",
        "colab_type": "code",
        "colab": {}
      },
      "source": [
        "yeniArabSeries = verisonDf.drop(\"price\",axis=1).iloc[2]"
      ],
      "execution_count": 86,
      "outputs": []
    },
    {
      "cell_type": "code",
      "metadata": {
        "id": "8O5Ycearrpox",
        "colab_type": "code",
        "colab": {
          "base_uri": "https://localhost:8080/",
          "height": 119
        },
        "outputId": "30ff7d55-bebc-4928-de1f-7d03944fc5e8"
      },
      "source": [
        "yeniArabSeries"
      ],
      "execution_count": 87,
      "outputs": [
        {
          "output_type": "execute_result",
          "data": {
            "text/plain": [
              "year          2020.0\n",
              "mileage       3999.0\n",
              "tax            145.0\n",
              "mpg             28.0\n",
              "engineSize       4.0\n",
              "Name: 3191, dtype: float64"
            ]
          },
          "metadata": {
            "tags": []
          },
          "execution_count": 87
        }
      ]
    },
    {
      "cell_type": "code",
      "metadata": {
        "id": "Hnf2cXnLrq-y",
        "colab_type": "code",
        "colab": {}
      },
      "source": [
        "yeniArabSeries = scaler.transform(yeniArabSeries.values.reshape(-1,5))"
      ],
      "execution_count": 88,
      "outputs": []
    },
    {
      "cell_type": "code",
      "metadata": {
        "id": "6Dh6-R1ysFGQ",
        "colab_type": "code",
        "colab": {
          "base_uri": "https://localhost:8080/",
          "height": 34
        },
        "outputId": "02b83463-f462-4ab5-f233-50ffbe220e4b"
      },
      "source": [
        "model.predict(yeniArabSeries)"
      ],
      "execution_count": 89,
      "outputs": [
        {
          "output_type": "execute_result",
          "data": {
            "text/plain": [
              "array([[62630.184]], dtype=float32)"
            ]
          },
          "metadata": {
            "tags": []
          },
          "execution_count": 89
        }
      ]
    },
    {
      "cell_type": "code",
      "metadata": {
        "id": "tOHPdQ2csiMv",
        "colab_type": "code",
        "colab": {}
      },
      "source": [
        ""
      ],
      "execution_count": null,
      "outputs": []
    }
  ]
}